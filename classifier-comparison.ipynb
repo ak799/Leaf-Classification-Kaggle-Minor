{
 "cells": [
  {
   "cell_type": "code",
   "execution_count": 1,
   "metadata": {
    "_cell_guid": "b1076dfc-b9ad-4769-8c92-a6c4dae69d19",
    "_uuid": "8f2839f25d086af736a60e9eeb907d3b93b6e0e5",
    "execution": {
     "iopub.execute_input": "2020-09-24T18:55:21.785336Z",
     "iopub.status.busy": "2020-09-24T18:55:21.784652Z",
     "iopub.status.idle": "2020-09-24T18:55:21.791294Z",
     "shell.execute_reply": "2020-09-24T18:55:21.792057Z"
    },
    "papermill": {
     "duration": 0.016726,
     "end_time": "2020-09-24T18:55:21.792299",
     "exception": false,
     "start_time": "2020-09-24T18:55:21.775573",
     "status": "completed"
    },
    "tags": []
   },
   "outputs": [
    {
     "name": "stdout",
     "output_type": "stream",
     "text": [
      "/kaggle/input/leaf-classification/sample_submission.csv.zip\n",
      "/kaggle/input/leaf-classification/test.csv.zip\n",
      "/kaggle/input/leaf-classification/images.zip\n",
      "/kaggle/input/leaf-classification/train.csv.zip\n"
     ]
    }
   ],
   "source": [
    "# This Python 3 environment comes with many helpful analytics libraries installed\n",
    "# It is defined by the kaggle/python Docker image: https://github.com/kaggle/docker-python\n",
    "# For example, here's several helpful packages to load\n",
    "\n",
    "import numpy as np # linear algebra\n",
    "import pandas as pd # data processing, CSV file I/O (e.g. pd.read_csv)\n",
    "\n",
    "# Input data files are available in the read-only \"../input/\" directory\n",
    "# For example, running this (by clicking run or pressing Shift+Enter) will list all files under the input directory\n",
    "\n",
    "import os\n",
    "for dirname, _, filenames in os.walk('/kaggle/input'):\n",
    "    for filename in filenames:\n",
    "        print(os.path.join(dirname, filename))\n",
    "\n",
    "# You can write up to 5GB to the current directory (/kaggle/working/) that gets preserved as output when you create a version using \"Save & Run All\" \n",
    "# You can also write temporary files to /kaggle/temp/, but they won't be saved outside of the current session"
   ]
  },
  {
   "cell_type": "markdown",
   "metadata": {
    "papermill": {
     "duration": 0.005469,
     "end_time": "2020-09-24T18:55:21.805320",
     "exception": false,
     "start_time": "2020-09-24T18:55:21.799851",
     "status": "completed"
    },
    "tags": []
   },
   "source": [
    "**Importing Packages**"
   ]
  },
  {
   "cell_type": "code",
   "execution_count": 2,
   "metadata": {
    "execution": {
     "iopub.execute_input": "2020-09-24T18:55:21.820275Z",
     "iopub.status.busy": "2020-09-24T18:55:21.819733Z",
     "iopub.status.idle": "2020-09-24T18:55:23.044645Z",
     "shell.execute_reply": "2020-09-24T18:55:23.043357Z"
    },
    "papermill": {
     "duration": 1.233401,
     "end_time": "2020-09-24T18:55:23.044768",
     "exception": false,
     "start_time": "2020-09-24T18:55:21.811367",
     "status": "completed"
    },
    "tags": []
   },
   "outputs": [],
   "source": [
    "from sklearn.preprocessing import LabelEncoder, StandardScaler\n",
    "from sklearn.model_selection import StratifiedShuffleSplit, cross_val_score, GridSearchCV\n",
    "\n",
    "from sklearn.discriminant_analysis import LinearDiscriminantAnalysis, QuadraticDiscriminantAnalysis\n",
    "from sklearn.neighbors import KNeighborsClassifier\n",
    "from sklearn.svm import SVC, LinearSVC, NuSVC\n",
    "from sklearn.ensemble import AdaBoostClassifier, GradientBoostingClassifier, RandomForestClassifier\n",
    "from sklearn.tree import DecisionTreeClassifier\n",
    "from sklearn.naive_bayes import GaussianNB\n",
    "from sklearn.metrics import accuracy_score, log_loss"
   ]
  },
  {
   "cell_type": "markdown",
   "metadata": {
    "papermill": {
     "duration": 0.005606,
     "end_time": "2020-09-24T18:55:23.056438",
     "exception": false,
     "start_time": "2020-09-24T18:55:23.050832",
     "status": "completed"
    },
    "tags": []
   },
   "source": [
    "**Splitting the data**"
   ]
  },
  {
   "cell_type": "code",
   "execution_count": 3,
   "metadata": {
    "execution": {
     "iopub.execute_input": "2020-09-24T18:55:23.073906Z",
     "iopub.status.busy": "2020-09-24T18:55:23.073354Z",
     "iopub.status.idle": "2020-09-24T18:55:23.166161Z",
     "shell.execute_reply": "2020-09-24T18:55:23.165544Z"
    },
    "papermill": {
     "duration": 0.104003,
     "end_time": "2020-09-24T18:55:23.166272",
     "exception": false,
     "start_time": "2020-09-24T18:55:23.062269",
     "status": "completed"
    },
    "tags": []
   },
   "outputs": [],
   "source": [
    "train_df = pd.read_csv('/kaggle/input/leaf-classification/train.csv.zip')\n",
    "test_df = pd.read_csv('/kaggle/input/leaf-classification/test.csv.zip')"
   ]
  },
  {
   "cell_type": "markdown",
   "metadata": {
    "papermill": {
     "duration": 0.00558,
     "end_time": "2020-09-24T18:55:23.178004",
     "exception": false,
     "start_time": "2020-09-24T18:55:23.172424",
     "status": "completed"
    },
    "tags": []
   },
   "source": [
    "**Preprocessing the data**"
   ]
  },
  {
   "cell_type": "code",
   "execution_count": 4,
   "metadata": {
    "execution": {
     "iopub.execute_input": "2020-09-24T18:55:23.207923Z",
     "iopub.status.busy": "2020-09-24T18:55:23.207325Z",
     "iopub.status.idle": "2020-09-24T18:55:23.210198Z",
     "shell.execute_reply": "2020-09-24T18:55:23.209612Z"
    },
    "papermill": {
     "duration": 0.026492,
     "end_time": "2020-09-24T18:55:23.210299",
     "exception": false,
     "start_time": "2020-09-24T18:55:23.183807",
     "status": "completed"
    },
    "tags": []
   },
   "outputs": [],
   "source": [
    "# Preprocess the data to fit for the classifier\n",
    "label_encoder = LabelEncoder().fit(train_df.species) # Instantiate a LabelEncoder and fit to the given label data\n",
    "labels = label_encoder.transform(train_df.species)  # encode species strings and return labels with value between 0 and n_classes-1\n",
    "classes = list(label_encoder.classes_)  # Save the species\n",
    "test_ids = test_df.id  # Save the image ids in test dataset\n",
    "\n",
    "train = train_df.drop(['id', 'species'], axis=1)\n",
    "test = test_df.drop(['id'], axis=1)"
   ]
  },
  {
   "cell_type": "code",
   "execution_count": 5,
   "metadata": {
    "execution": {
     "iopub.execute_input": "2020-09-24T18:55:23.228735Z",
     "iopub.status.busy": "2020-09-24T18:55:23.228169Z",
     "iopub.status.idle": "2020-09-24T18:55:23.254420Z",
     "shell.execute_reply": "2020-09-24T18:55:23.253878Z"
    },
    "papermill": {
     "duration": 0.038109,
     "end_time": "2020-09-24T18:55:23.254533",
     "exception": false,
     "start_time": "2020-09-24T18:55:23.216424",
     "status": "completed"
    },
    "tags": []
   },
   "outputs": [],
   "source": [
    "s = StratifiedShuffleSplit(n_splits=10, test_size=0.2, random_state=0)\n",
    "s.get_n_splits(train, labels)\n",
    "\n",
    "for train_index, test_index in s.split(train, labels):   \n",
    "    X_train, X_test = train.values[train_index], train.values[test_index]\n",
    "    y_train, y_test = labels[train_index], labels[test_index]"
   ]
  },
  {
   "cell_type": "markdown",
   "metadata": {
    "papermill": {
     "duration": 0.00588,
     "end_time": "2020-09-24T18:55:23.266563",
     "exception": false,
     "start_time": "2020-09-24T18:55:23.260683",
     "status": "completed"
    },
    "tags": []
   },
   "source": [
    "**Classifier Comparison**"
   ]
  },
  {
   "cell_type": "code",
   "execution_count": 6,
   "metadata": {
    "execution": {
     "iopub.execute_input": "2020-09-24T18:55:23.288015Z",
     "iopub.status.busy": "2020-09-24T18:55:23.287453Z",
     "iopub.status.idle": "2020-09-24T19:00:08.118289Z",
     "shell.execute_reply": "2020-09-24T19:00:08.118713Z"
    },
    "papermill": {
     "duration": 284.84469,
     "end_time": "2020-09-24T19:00:08.118891",
     "exception": false,
     "start_time": "2020-09-24T18:55:23.274201",
     "status": "completed"
    },
    "tags": []
   },
   "outputs": [
    {
     "name": "stdout",
     "output_type": "stream",
     "text": [
      "LinearDiscriminantAnalysis\n",
      "Accuracy: 97.47474747474747%\n",
      "Log Loss: 0.5108204944709152\n",
      "\n",
      "\n",
      "QuadraticDiscriminantAnalysis\n",
      "Accuracy: 1.0101010101010102%\n",
      "Log Loss: 34.189899865669254\n",
      "\n",
      "\n",
      "KNeighborsClassifier\n",
      "Accuracy: 87.87878787878788%\n",
      "Log Loss: 2.2502083078831476\n",
      "\n",
      "\n"
     ]
    },
    {
     "name": "stderr",
     "output_type": "stream",
     "text": [
      "/opt/conda/lib/python3.7/site-packages/sklearn/discriminant_analysis.py:715: UserWarning: Variables are collinear\n",
      "  warnings.warn(\"Variables are collinear\")\n"
     ]
    },
    {
     "name": "stdout",
     "output_type": "stream",
     "text": [
      "SVC\n",
      "Accuracy: 84.34343434343434%\n",
      "Log Loss: 4.641972234325206\n",
      "\n",
      "\n",
      "NuSVC\n",
      "Accuracy: 90.40404040404042%\n",
      "Log Loss: 2.406960790521395\n",
      "\n",
      "\n",
      "AdaBoostClassifier\n",
      "Accuracy: 3.0303030303030303%\n",
      "Log Loss: 4.290979467326837\n",
      "\n",
      "\n",
      "GradientBoostingClassifier\n",
      "Accuracy: 65.65656565656566%\n",
      "Log Loss: 3.0001142483414\n",
      "\n",
      "\n",
      "RandomForestClassifier\n",
      "Accuracy: 96.96969696969697%\n",
      "Log Loss: 0.7505128776543867\n",
      "\n",
      "\n",
      "DecisionTreeClassifier\n",
      "Accuracy: 68.68686868686868%\n",
      "Log Loss: 10.81517240648728\n",
      "\n",
      "\n",
      "GaussianNB\n",
      "Accuracy: 55.05050505050505%\n",
      "Log Loss: 15.506623400535767\n",
      "\n",
      "\n"
     ]
    }
   ],
   "source": [
    "classifiers = [\n",
    "    LinearDiscriminantAnalysis(),\n",
    "    QuadraticDiscriminantAnalysis(),\n",
    "    KNeighborsClassifier(3),\n",
    "    SVC(kernel=\"rbf\", C=0.025, probability=True),\n",
    "    NuSVC(probability=True),\n",
    "    AdaBoostClassifier(),\n",
    "    GradientBoostingClassifier(),\n",
    "    RandomForestClassifier(),\n",
    "    DecisionTreeClassifier(),\n",
    "    GaussianNB()\n",
    "]\n",
    "\n",
    "for clf in classifiers:\n",
    "    clf.fit(X_train, y_train)\n",
    "    \n",
    "    print(clf.__class__.__name__)\n",
    "    \n",
    "    #Accuracy of the model\n",
    "    predictions = clf.predict(X_test)\n",
    "    accuracy = accuracy_score(y_test, predictions) * 100\n",
    "    print(\"Accuracy: \" + str(accuracy) + \"%\")\n",
    "    \n",
    "    #Log loss of the model\n",
    "    predictions = clf.predict_proba(X_test)\n",
    "    logloss = log_loss(y_test, predictions)\n",
    "    print(\"Log Loss: \" + str(logloss) + \"\\n\\n\")"
   ]
  },
  {
   "cell_type": "code",
   "execution_count": null,
   "metadata": {
    "papermill": {
     "duration": 0.007991,
     "end_time": "2020-09-24T19:00:08.135163",
     "exception": false,
     "start_time": "2020-09-24T19:00:08.127172",
     "status": "completed"
    },
    "tags": []
   },
   "outputs": [],
   "source": []
  }
 ],
 "metadata": {
  "kernelspec": {
   "display_name": "Python 3",
   "language": "python",
   "name": "python3"
  },
  "language_info": {
   "codemirror_mode": {
    "name": "ipython",
    "version": 3
   },
   "file_extension": ".py",
   "mimetype": "text/x-python",
   "name": "python",
   "nbconvert_exporter": "python",
   "pygments_lexer": "ipython3",
   "version": "3.7.6"
  },
  "papermill": {
   "duration": 290.494631,
   "end_time": "2020-09-24T19:00:08.251598",
   "environment_variables": {},
   "exception": null,
   "input_path": "__notebook__.ipynb",
   "output_path": "__notebook__.ipynb",
   "parameters": {},
   "start_time": "2020-09-24T18:55:17.756967",
   "version": "2.1.0"
  }
 },
 "nbformat": 4,
 "nbformat_minor": 4
}
