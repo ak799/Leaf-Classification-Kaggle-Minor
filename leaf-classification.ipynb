{
 "cells": [
  {
   "cell_type": "code",
   "execution_count": 1,
   "metadata": {
    "_cell_guid": "b1076dfc-b9ad-4769-8c92-a6c4dae69d19",
    "_uuid": "8f2839f25d086af736a60e9eeb907d3b93b6e0e5",
    "execution": {
     "iopub.execute_input": "2020-11-26T08:30:31.206918Z",
     "iopub.status.busy": "2020-11-26T08:30:31.206089Z",
     "iopub.status.idle": "2020-11-26T08:30:31.214362Z",
     "shell.execute_reply": "2020-11-26T08:30:31.212328Z"
    },
    "papermill": {
     "duration": 0.04674,
     "end_time": "2020-11-26T08:30:31.214650",
     "exception": false,
     "start_time": "2020-11-26T08:30:31.167910",
     "status": "completed"
    },
    "tags": []
   },
   "outputs": [
    {
     "name": "stdout",
     "output_type": "stream",
     "text": [
      "/kaggle/input/leaf-classification/test.csv.zip\n",
      "/kaggle/input/leaf-classification/images.zip\n",
      "/kaggle/input/leaf-classification/train.csv.zip\n",
      "/kaggle/input/leaf-classification/sample_submission.csv.zip\n"
     ]
    }
   ],
   "source": [
    "# This Python 3 environment comes with many helpful analytics libraries installed\n",
    "# It is defined by the kaggle/python Docker image: https://github.com/kaggle/docker-python\n",
    "# For example, here's several helpful packages to load\n",
    "\n",
    "import numpy as np # linear algebra\n",
    "import pandas as pd # data processing, CSV file I/O (e.g. pd.read_csv)\n",
    "\n",
    "# Input data files are available in the read-only \"../input/\" directory\n",
    "# For example, running this (by clicking run or pressing Shift+Enter) will list all files under the input directory\n",
    "\n",
    "import os\n",
    "for dirname, _, filenames in os.walk('/kaggle/input'):\n",
    "    for filename in filenames:\n",
    "        print(os.path.join(dirname, filename))\n",
    "\n",
    "# You can write up to 20GB to the current directory (/kaggle/working/) that gets preserved as output when you create a version using \"Save & Run All\" \n",
    "# You can also write temporary files to /kaggle/temp/, but they won't be saved outside of the current session"
   ]
  },
  {
   "cell_type": "markdown",
   "metadata": {
    "papermill": {
     "duration": 0.027151,
     "end_time": "2020-11-26T08:30:31.272923",
     "exception": false,
     "start_time": "2020-11-26T08:30:31.245772",
     "status": "completed"
    },
    "tags": []
   },
   "source": [
    "**Importing Train and Test Data**"
   ]
  },
  {
   "cell_type": "code",
   "execution_count": 2,
   "metadata": {
    "_cell_guid": "79c7e3d0-c299-4dcb-8224-4455121ee9b0",
    "_uuid": "d629ff2d2480ee46fbb7e2d37f6b5fab8052498a",
    "execution": {
     "iopub.execute_input": "2020-11-26T08:30:31.336709Z",
     "iopub.status.busy": "2020-11-26T08:30:31.335580Z",
     "iopub.status.idle": "2020-11-26T08:30:31.476744Z",
     "shell.execute_reply": "2020-11-26T08:30:31.475954Z"
    },
    "papermill": {
     "duration": 0.175081,
     "end_time": "2020-11-26T08:30:31.476872",
     "exception": false,
     "start_time": "2020-11-26T08:30:31.301791",
     "status": "completed"
    },
    "tags": []
   },
   "outputs": [],
   "source": [
    "train = pd.read_csv(\"/kaggle/input/leaf-classification/train.csv.zip\")\n",
    "test = pd.read_csv(\"/kaggle/input/leaf-classification/test.csv.zip\")"
   ]
  },
  {
   "cell_type": "markdown",
   "metadata": {
    "papermill": {
     "duration": 0.025419,
     "end_time": "2020-11-26T08:30:31.529150",
     "exception": false,
     "start_time": "2020-11-26T08:30:31.503731",
     "status": "completed"
    },
    "tags": []
   },
   "source": [
    "**Converting the Train and Test datasets into dataframe**\n",
    "\n",
    "**We require the dataframe from pandas**"
   ]
  },
  {
   "cell_type": "code",
   "execution_count": 3,
   "metadata": {
    "execution": {
     "iopub.execute_input": "2020-11-26T08:30:31.585867Z",
     "iopub.status.busy": "2020-11-26T08:30:31.585059Z",
     "iopub.status.idle": "2020-11-26T08:30:31.588406Z",
     "shell.execute_reply": "2020-11-26T08:30:31.587668Z"
    },
    "papermill": {
     "duration": 0.033942,
     "end_time": "2020-11-26T08:30:31.588541",
     "exception": false,
     "start_time": "2020-11-26T08:30:31.554599",
     "status": "completed"
    },
    "tags": []
   },
   "outputs": [],
   "source": [
    "from pandas import DataFrame"
   ]
  },
  {
   "cell_type": "code",
   "execution_count": 4,
   "metadata": {
    "execution": {
     "iopub.execute_input": "2020-11-26T08:30:31.647676Z",
     "iopub.status.busy": "2020-11-26T08:30:31.646604Z",
     "iopub.status.idle": "2020-11-26T08:30:31.756937Z",
     "shell.execute_reply": "2020-11-26T08:30:31.756176Z"
    },
    "papermill": {
     "duration": 0.141688,
     "end_time": "2020-11-26T08:30:31.757083",
     "exception": false,
     "start_time": "2020-11-26T08:30:31.615395",
     "status": "completed"
    },
    "tags": []
   },
   "outputs": [],
   "source": [
    "#converting\n",
    "train_df = pd.read_csv(\"/kaggle/input/leaf-classification/train.csv.zip\")\n",
    "test_df= pd.read_csv(\"/kaggle/input/leaf-classification/test.csv.zip\")"
   ]
  },
  {
   "cell_type": "markdown",
   "metadata": {
    "papermill": {
     "duration": 0.026131,
     "end_time": "2020-11-26T08:30:31.809139",
     "exception": false,
     "start_time": "2020-11-26T08:30:31.783008",
     "status": "completed"
    },
    "tags": []
   },
   "source": [
    "**Now we need to check for columns present in both datasets**\n",
    "\n",
    "**And even find the missing values in each column**"
   ]
  },
  {
   "cell_type": "code",
   "execution_count": 5,
   "metadata": {
    "execution": {
     "iopub.execute_input": "2020-11-26T08:30:31.909834Z",
     "iopub.status.busy": "2020-11-26T08:30:31.908660Z",
     "iopub.status.idle": "2020-11-26T08:30:31.913168Z",
     "shell.execute_reply": "2020-11-26T08:30:31.913936Z"
    },
    "papermill": {
     "duration": 0.07533,
     "end_time": "2020-11-26T08:30:31.914131",
     "exception": false,
     "start_time": "2020-11-26T08:30:31.838801",
     "status": "completed"
    },
    "tags": []
   },
   "outputs": [
    {
     "name": "stdout",
     "output_type": "stream",
     "text": [
      "<class 'pandas.core.frame.DataFrame'>\n",
      "RangeIndex: 990 entries, 0 to 989\n",
      "Columns: 194 entries, id to texture64\n",
      "dtypes: float64(192), int64(1), object(1)\n",
      "memory usage: 1.5+ MB\n",
      "<class 'pandas.core.frame.DataFrame'>\n",
      "RangeIndex: 594 entries, 0 to 593\n",
      "Columns: 193 entries, id to texture64\n",
      "dtypes: float64(192), int64(1)\n",
      "memory usage: 895.8 KB\n"
     ]
    }
   ],
   "source": [
    "train_df.info()\n",
    "test_df.info()"
   ]
  },
  {
   "cell_type": "markdown",
   "metadata": {
    "papermill": {
     "duration": 0.031454,
     "end_time": "2020-11-26T08:30:31.973547",
     "exception": false,
     "start_time": "2020-11-26T08:30:31.942093",
     "status": "completed"
    },
    "tags": []
   },
   "source": [
    "**Prining the first five rows of both datasets**"
   ]
  },
  {
   "cell_type": "code",
   "execution_count": 6,
   "metadata": {
    "execution": {
     "iopub.execute_input": "2020-11-26T08:30:32.056538Z",
     "iopub.status.busy": "2020-11-26T08:30:32.055539Z",
     "iopub.status.idle": "2020-11-26T08:30:32.075281Z",
     "shell.execute_reply": "2020-11-26T08:30:32.074508Z"
    },
    "papermill": {
     "duration": 0.073968,
     "end_time": "2020-11-26T08:30:32.075425",
     "exception": false,
     "start_time": "2020-11-26T08:30:32.001457",
     "status": "completed"
    },
    "tags": []
   },
   "outputs": [
    {
     "data": {
      "text/html": [
       "<div>\n",
       "<style scoped>\n",
       "    .dataframe tbody tr th:only-of-type {\n",
       "        vertical-align: middle;\n",
       "    }\n",
       "\n",
       "    .dataframe tbody tr th {\n",
       "        vertical-align: top;\n",
       "    }\n",
       "\n",
       "    .dataframe thead th {\n",
       "        text-align: right;\n",
       "    }\n",
       "</style>\n",
       "<table border=\"1\" class=\"dataframe\">\n",
       "  <thead>\n",
       "    <tr style=\"text-align: right;\">\n",
       "      <th></th>\n",
       "      <th>id</th>\n",
       "      <th>species</th>\n",
       "      <th>margin1</th>\n",
       "      <th>margin2</th>\n",
       "      <th>margin3</th>\n",
       "      <th>margin4</th>\n",
       "      <th>margin5</th>\n",
       "      <th>margin6</th>\n",
       "      <th>margin7</th>\n",
       "      <th>margin8</th>\n",
       "      <th>...</th>\n",
       "      <th>texture55</th>\n",
       "      <th>texture56</th>\n",
       "      <th>texture57</th>\n",
       "      <th>texture58</th>\n",
       "      <th>texture59</th>\n",
       "      <th>texture60</th>\n",
       "      <th>texture61</th>\n",
       "      <th>texture62</th>\n",
       "      <th>texture63</th>\n",
       "      <th>texture64</th>\n",
       "    </tr>\n",
       "  </thead>\n",
       "  <tbody>\n",
       "    <tr>\n",
       "      <th>0</th>\n",
       "      <td>1</td>\n",
       "      <td>Acer_Opalus</td>\n",
       "      <td>0.007812</td>\n",
       "      <td>0.023438</td>\n",
       "      <td>0.023438</td>\n",
       "      <td>0.003906</td>\n",
       "      <td>0.011719</td>\n",
       "      <td>0.009766</td>\n",
       "      <td>0.027344</td>\n",
       "      <td>0.0</td>\n",
       "      <td>...</td>\n",
       "      <td>0.007812</td>\n",
       "      <td>0.000000</td>\n",
       "      <td>0.002930</td>\n",
       "      <td>0.002930</td>\n",
       "      <td>0.035156</td>\n",
       "      <td>0.0</td>\n",
       "      <td>0.0</td>\n",
       "      <td>0.004883</td>\n",
       "      <td>0.000000</td>\n",
       "      <td>0.025391</td>\n",
       "    </tr>\n",
       "    <tr>\n",
       "      <th>1</th>\n",
       "      <td>2</td>\n",
       "      <td>Pterocarya_Stenoptera</td>\n",
       "      <td>0.005859</td>\n",
       "      <td>0.000000</td>\n",
       "      <td>0.031250</td>\n",
       "      <td>0.015625</td>\n",
       "      <td>0.025391</td>\n",
       "      <td>0.001953</td>\n",
       "      <td>0.019531</td>\n",
       "      <td>0.0</td>\n",
       "      <td>...</td>\n",
       "      <td>0.000977</td>\n",
       "      <td>0.000000</td>\n",
       "      <td>0.000000</td>\n",
       "      <td>0.000977</td>\n",
       "      <td>0.023438</td>\n",
       "      <td>0.0</td>\n",
       "      <td>0.0</td>\n",
       "      <td>0.000977</td>\n",
       "      <td>0.039062</td>\n",
       "      <td>0.022461</td>\n",
       "    </tr>\n",
       "    <tr>\n",
       "      <th>2</th>\n",
       "      <td>3</td>\n",
       "      <td>Quercus_Hartwissiana</td>\n",
       "      <td>0.005859</td>\n",
       "      <td>0.009766</td>\n",
       "      <td>0.019531</td>\n",
       "      <td>0.007812</td>\n",
       "      <td>0.003906</td>\n",
       "      <td>0.005859</td>\n",
       "      <td>0.068359</td>\n",
       "      <td>0.0</td>\n",
       "      <td>...</td>\n",
       "      <td>0.154300</td>\n",
       "      <td>0.000000</td>\n",
       "      <td>0.005859</td>\n",
       "      <td>0.000977</td>\n",
       "      <td>0.007812</td>\n",
       "      <td>0.0</td>\n",
       "      <td>0.0</td>\n",
       "      <td>0.000000</td>\n",
       "      <td>0.020508</td>\n",
       "      <td>0.002930</td>\n",
       "    </tr>\n",
       "    <tr>\n",
       "      <th>3</th>\n",
       "      <td>5</td>\n",
       "      <td>Tilia_Tomentosa</td>\n",
       "      <td>0.000000</td>\n",
       "      <td>0.003906</td>\n",
       "      <td>0.023438</td>\n",
       "      <td>0.005859</td>\n",
       "      <td>0.021484</td>\n",
       "      <td>0.019531</td>\n",
       "      <td>0.023438</td>\n",
       "      <td>0.0</td>\n",
       "      <td>...</td>\n",
       "      <td>0.000000</td>\n",
       "      <td>0.000977</td>\n",
       "      <td>0.000000</td>\n",
       "      <td>0.000000</td>\n",
       "      <td>0.020508</td>\n",
       "      <td>0.0</td>\n",
       "      <td>0.0</td>\n",
       "      <td>0.017578</td>\n",
       "      <td>0.000000</td>\n",
       "      <td>0.047852</td>\n",
       "    </tr>\n",
       "    <tr>\n",
       "      <th>4</th>\n",
       "      <td>6</td>\n",
       "      <td>Quercus_Variabilis</td>\n",
       "      <td>0.005859</td>\n",
       "      <td>0.003906</td>\n",
       "      <td>0.048828</td>\n",
       "      <td>0.009766</td>\n",
       "      <td>0.013672</td>\n",
       "      <td>0.015625</td>\n",
       "      <td>0.005859</td>\n",
       "      <td>0.0</td>\n",
       "      <td>...</td>\n",
       "      <td>0.096680</td>\n",
       "      <td>0.000000</td>\n",
       "      <td>0.021484</td>\n",
       "      <td>0.000000</td>\n",
       "      <td>0.000000</td>\n",
       "      <td>0.0</td>\n",
       "      <td>0.0</td>\n",
       "      <td>0.000000</td>\n",
       "      <td>0.000000</td>\n",
       "      <td>0.031250</td>\n",
       "    </tr>\n",
       "  </tbody>\n",
       "</table>\n",
       "<p>5 rows × 194 columns</p>\n",
       "</div>"
      ],
      "text/plain": [
       "   id                species   margin1   margin2   margin3   margin4  \\\n",
       "0   1            Acer_Opalus  0.007812  0.023438  0.023438  0.003906   \n",
       "1   2  Pterocarya_Stenoptera  0.005859  0.000000  0.031250  0.015625   \n",
       "2   3   Quercus_Hartwissiana  0.005859  0.009766  0.019531  0.007812   \n",
       "3   5        Tilia_Tomentosa  0.000000  0.003906  0.023438  0.005859   \n",
       "4   6     Quercus_Variabilis  0.005859  0.003906  0.048828  0.009766   \n",
       "\n",
       "    margin5   margin6   margin7  margin8  ...  texture55  texture56  \\\n",
       "0  0.011719  0.009766  0.027344      0.0  ...   0.007812   0.000000   \n",
       "1  0.025391  0.001953  0.019531      0.0  ...   0.000977   0.000000   \n",
       "2  0.003906  0.005859  0.068359      0.0  ...   0.154300   0.000000   \n",
       "3  0.021484  0.019531  0.023438      0.0  ...   0.000000   0.000977   \n",
       "4  0.013672  0.015625  0.005859      0.0  ...   0.096680   0.000000   \n",
       "\n",
       "   texture57  texture58  texture59  texture60  texture61  texture62  \\\n",
       "0   0.002930   0.002930   0.035156        0.0        0.0   0.004883   \n",
       "1   0.000000   0.000977   0.023438        0.0        0.0   0.000977   \n",
       "2   0.005859   0.000977   0.007812        0.0        0.0   0.000000   \n",
       "3   0.000000   0.000000   0.020508        0.0        0.0   0.017578   \n",
       "4   0.021484   0.000000   0.000000        0.0        0.0   0.000000   \n",
       "\n",
       "   texture63  texture64  \n",
       "0   0.000000   0.025391  \n",
       "1   0.039062   0.022461  \n",
       "2   0.020508   0.002930  \n",
       "3   0.000000   0.047852  \n",
       "4   0.000000   0.031250  \n",
       "\n",
       "[5 rows x 194 columns]"
      ]
     },
     "execution_count": 6,
     "metadata": {},
     "output_type": "execute_result"
    }
   ],
   "source": [
    "train.head()"
   ]
  },
  {
   "cell_type": "code",
   "execution_count": 7,
   "metadata": {
    "execution": {
     "iopub.execute_input": "2020-11-26T08:30:32.165278Z",
     "iopub.status.busy": "2020-11-26T08:30:32.160702Z",
     "iopub.status.idle": "2020-11-26T08:30:32.170771Z",
     "shell.execute_reply": "2020-11-26T08:30:32.170086Z"
    },
    "papermill": {
     "duration": 0.06509,
     "end_time": "2020-11-26T08:30:32.170909",
     "exception": false,
     "start_time": "2020-11-26T08:30:32.105819",
     "status": "completed"
    },
    "tags": []
   },
   "outputs": [
    {
     "data": {
      "text/html": [
       "<div>\n",
       "<style scoped>\n",
       "    .dataframe tbody tr th:only-of-type {\n",
       "        vertical-align: middle;\n",
       "    }\n",
       "\n",
       "    .dataframe tbody tr th {\n",
       "        vertical-align: top;\n",
       "    }\n",
       "\n",
       "    .dataframe thead th {\n",
       "        text-align: right;\n",
       "    }\n",
       "</style>\n",
       "<table border=\"1\" class=\"dataframe\">\n",
       "  <thead>\n",
       "    <tr style=\"text-align: right;\">\n",
       "      <th></th>\n",
       "      <th>id</th>\n",
       "      <th>species</th>\n",
       "      <th>margin1</th>\n",
       "      <th>margin2</th>\n",
       "      <th>margin3</th>\n",
       "      <th>margin4</th>\n",
       "      <th>margin5</th>\n",
       "      <th>margin6</th>\n",
       "      <th>margin7</th>\n",
       "      <th>margin8</th>\n",
       "      <th>...</th>\n",
       "      <th>texture55</th>\n",
       "      <th>texture56</th>\n",
       "      <th>texture57</th>\n",
       "      <th>texture58</th>\n",
       "      <th>texture59</th>\n",
       "      <th>texture60</th>\n",
       "      <th>texture61</th>\n",
       "      <th>texture62</th>\n",
       "      <th>texture63</th>\n",
       "      <th>texture64</th>\n",
       "    </tr>\n",
       "  </thead>\n",
       "  <tbody>\n",
       "    <tr>\n",
       "      <th>0</th>\n",
       "      <td>1</td>\n",
       "      <td>Acer_Opalus</td>\n",
       "      <td>0.007812</td>\n",
       "      <td>0.023438</td>\n",
       "      <td>0.023438</td>\n",
       "      <td>0.003906</td>\n",
       "      <td>0.011719</td>\n",
       "      <td>0.009766</td>\n",
       "      <td>0.027344</td>\n",
       "      <td>0.0</td>\n",
       "      <td>...</td>\n",
       "      <td>0.007812</td>\n",
       "      <td>0.000000</td>\n",
       "      <td>0.002930</td>\n",
       "      <td>0.002930</td>\n",
       "      <td>0.035156</td>\n",
       "      <td>0.0</td>\n",
       "      <td>0.0</td>\n",
       "      <td>0.004883</td>\n",
       "      <td>0.000000</td>\n",
       "      <td>0.025391</td>\n",
       "    </tr>\n",
       "    <tr>\n",
       "      <th>1</th>\n",
       "      <td>2</td>\n",
       "      <td>Pterocarya_Stenoptera</td>\n",
       "      <td>0.005859</td>\n",
       "      <td>0.000000</td>\n",
       "      <td>0.031250</td>\n",
       "      <td>0.015625</td>\n",
       "      <td>0.025391</td>\n",
       "      <td>0.001953</td>\n",
       "      <td>0.019531</td>\n",
       "      <td>0.0</td>\n",
       "      <td>...</td>\n",
       "      <td>0.000977</td>\n",
       "      <td>0.000000</td>\n",
       "      <td>0.000000</td>\n",
       "      <td>0.000977</td>\n",
       "      <td>0.023438</td>\n",
       "      <td>0.0</td>\n",
       "      <td>0.0</td>\n",
       "      <td>0.000977</td>\n",
       "      <td>0.039062</td>\n",
       "      <td>0.022461</td>\n",
       "    </tr>\n",
       "    <tr>\n",
       "      <th>2</th>\n",
       "      <td>3</td>\n",
       "      <td>Quercus_Hartwissiana</td>\n",
       "      <td>0.005859</td>\n",
       "      <td>0.009766</td>\n",
       "      <td>0.019531</td>\n",
       "      <td>0.007812</td>\n",
       "      <td>0.003906</td>\n",
       "      <td>0.005859</td>\n",
       "      <td>0.068359</td>\n",
       "      <td>0.0</td>\n",
       "      <td>...</td>\n",
       "      <td>0.154300</td>\n",
       "      <td>0.000000</td>\n",
       "      <td>0.005859</td>\n",
       "      <td>0.000977</td>\n",
       "      <td>0.007812</td>\n",
       "      <td>0.0</td>\n",
       "      <td>0.0</td>\n",
       "      <td>0.000000</td>\n",
       "      <td>0.020508</td>\n",
       "      <td>0.002930</td>\n",
       "    </tr>\n",
       "    <tr>\n",
       "      <th>3</th>\n",
       "      <td>5</td>\n",
       "      <td>Tilia_Tomentosa</td>\n",
       "      <td>0.000000</td>\n",
       "      <td>0.003906</td>\n",
       "      <td>0.023438</td>\n",
       "      <td>0.005859</td>\n",
       "      <td>0.021484</td>\n",
       "      <td>0.019531</td>\n",
       "      <td>0.023438</td>\n",
       "      <td>0.0</td>\n",
       "      <td>...</td>\n",
       "      <td>0.000000</td>\n",
       "      <td>0.000977</td>\n",
       "      <td>0.000000</td>\n",
       "      <td>0.000000</td>\n",
       "      <td>0.020508</td>\n",
       "      <td>0.0</td>\n",
       "      <td>0.0</td>\n",
       "      <td>0.017578</td>\n",
       "      <td>0.000000</td>\n",
       "      <td>0.047852</td>\n",
       "    </tr>\n",
       "    <tr>\n",
       "      <th>4</th>\n",
       "      <td>6</td>\n",
       "      <td>Quercus_Variabilis</td>\n",
       "      <td>0.005859</td>\n",
       "      <td>0.003906</td>\n",
       "      <td>0.048828</td>\n",
       "      <td>0.009766</td>\n",
       "      <td>0.013672</td>\n",
       "      <td>0.015625</td>\n",
       "      <td>0.005859</td>\n",
       "      <td>0.0</td>\n",
       "      <td>...</td>\n",
       "      <td>0.096680</td>\n",
       "      <td>0.000000</td>\n",
       "      <td>0.021484</td>\n",
       "      <td>0.000000</td>\n",
       "      <td>0.000000</td>\n",
       "      <td>0.0</td>\n",
       "      <td>0.0</td>\n",
       "      <td>0.000000</td>\n",
       "      <td>0.000000</td>\n",
       "      <td>0.031250</td>\n",
       "    </tr>\n",
       "  </tbody>\n",
       "</table>\n",
       "<p>5 rows × 194 columns</p>\n",
       "</div>"
      ],
      "text/plain": [
       "   id                species   margin1   margin2   margin3   margin4  \\\n",
       "0   1            Acer_Opalus  0.007812  0.023438  0.023438  0.003906   \n",
       "1   2  Pterocarya_Stenoptera  0.005859  0.000000  0.031250  0.015625   \n",
       "2   3   Quercus_Hartwissiana  0.005859  0.009766  0.019531  0.007812   \n",
       "3   5        Tilia_Tomentosa  0.000000  0.003906  0.023438  0.005859   \n",
       "4   6     Quercus_Variabilis  0.005859  0.003906  0.048828  0.009766   \n",
       "\n",
       "    margin5   margin6   margin7  margin8  ...  texture55  texture56  \\\n",
       "0  0.011719  0.009766  0.027344      0.0  ...   0.007812   0.000000   \n",
       "1  0.025391  0.001953  0.019531      0.0  ...   0.000977   0.000000   \n",
       "2  0.003906  0.005859  0.068359      0.0  ...   0.154300   0.000000   \n",
       "3  0.021484  0.019531  0.023438      0.0  ...   0.000000   0.000977   \n",
       "4  0.013672  0.015625  0.005859      0.0  ...   0.096680   0.000000   \n",
       "\n",
       "   texture57  texture58  texture59  texture60  texture61  texture62  \\\n",
       "0   0.002930   0.002930   0.035156        0.0        0.0   0.004883   \n",
       "1   0.000000   0.000977   0.023438        0.0        0.0   0.000977   \n",
       "2   0.005859   0.000977   0.007812        0.0        0.0   0.000000   \n",
       "3   0.000000   0.000000   0.020508        0.0        0.0   0.017578   \n",
       "4   0.021484   0.000000   0.000000        0.0        0.0   0.000000   \n",
       "\n",
       "   texture63  texture64  \n",
       "0   0.000000   0.025391  \n",
       "1   0.039062   0.022461  \n",
       "2   0.020508   0.002930  \n",
       "3   0.000000   0.047852  \n",
       "4   0.000000   0.031250  \n",
       "\n",
       "[5 rows x 194 columns]"
      ]
     },
     "execution_count": 7,
     "metadata": {},
     "output_type": "execute_result"
    }
   ],
   "source": [
    "train.head()"
   ]
  },
  {
   "cell_type": "markdown",
   "metadata": {
    "papermill": {
     "duration": 0.031493,
     "end_time": "2020-11-26T08:30:32.233847",
     "exception": false,
     "start_time": "2020-11-26T08:30:32.202354",
     "status": "completed"
    },
    "tags": []
   },
   "source": [
    "**10 CLASSIFIERS SHOWDOWN**"
   ]
  },
  {
   "cell_type": "markdown",
   "metadata": {
    "papermill": {
     "duration": 0.03078,
     "end_time": "2020-11-26T08:30:32.295440",
     "exception": false,
     "start_time": "2020-11-26T08:30:32.264660",
     "status": "completed"
    },
    "tags": []
   },
   "source": [
    "**Plotting Libraries**"
   ]
  },
  {
   "cell_type": "code",
   "execution_count": 8,
   "metadata": {
    "execution": {
     "iopub.execute_input": "2020-11-26T08:30:32.360734Z",
     "iopub.status.busy": "2020-11-26T08:30:32.360007Z",
     "iopub.status.idle": "2020-11-26T08:30:33.570514Z",
     "shell.execute_reply": "2020-11-26T08:30:33.569666Z"
    },
    "papermill": {
     "duration": 1.24458,
     "end_time": "2020-11-26T08:30:33.570650",
     "exception": false,
     "start_time": "2020-11-26T08:30:32.326070",
     "status": "completed"
    },
    "tags": []
   },
   "outputs": [],
   "source": [
    "import seaborn as sns\n",
    "import matplotlib.pyplot as plt\n",
    "\n",
    "def warn(*args, **kwargs): pass\n",
    "import warnings\n",
    "warnings.warn = warn"
   ]
  },
  {
   "cell_type": "markdown",
   "metadata": {
    "papermill": {
     "duration": 0.03413,
     "end_time": "2020-11-26T08:30:33.636125",
     "exception": false,
     "start_time": "2020-11-26T08:30:33.601995",
     "status": "completed"
    },
    "tags": []
   },
   "source": [
    "**Libraries for splitting**"
   ]
  },
  {
   "cell_type": "code",
   "execution_count": 9,
   "metadata": {
    "execution": {
     "iopub.execute_input": "2020-11-26T08:30:33.707921Z",
     "iopub.status.busy": "2020-11-26T08:30:33.707115Z",
     "iopub.status.idle": "2020-11-26T08:30:33.853505Z",
     "shell.execute_reply": "2020-11-26T08:30:33.852676Z"
    },
    "papermill": {
     "duration": 0.184991,
     "end_time": "2020-11-26T08:30:33.853637",
     "exception": false,
     "start_time": "2020-11-26T08:30:33.668646",
     "status": "completed"
    },
    "tags": []
   },
   "outputs": [],
   "source": [
    "from sklearn.preprocessing import LabelEncoder\n",
    "from sklearn.model_selection import StratifiedShuffleSplit"
   ]
  },
  {
   "cell_type": "markdown",
   "metadata": {
    "papermill": {
     "duration": 0.028701,
     "end_time": "2020-11-26T08:30:33.913287",
     "exception": false,
     "start_time": "2020-11-26T08:30:33.884586",
     "status": "completed"
    },
    "tags": []
   },
   "source": [
    "**Preprocessing the data**"
   ]
  },
  {
   "cell_type": "code",
   "execution_count": 10,
   "metadata": {
    "execution": {
     "iopub.execute_input": "2020-11-26T08:30:34.006834Z",
     "iopub.status.busy": "2020-11-26T08:30:33.995044Z",
     "iopub.status.idle": "2020-11-26T08:30:34.013585Z",
     "shell.execute_reply": "2020-11-26T08:30:34.012781Z"
    },
    "papermill": {
     "duration": 0.072085,
     "end_time": "2020-11-26T08:30:34.013716",
     "exception": false,
     "start_time": "2020-11-26T08:30:33.941631",
     "status": "completed"
    },
    "tags": []
   },
   "outputs": [
    {
     "data": {
      "text/html": [
       "<div>\n",
       "<style scoped>\n",
       "    .dataframe tbody tr th:only-of-type {\n",
       "        vertical-align: middle;\n",
       "    }\n",
       "\n",
       "    .dataframe tbody tr th {\n",
       "        vertical-align: top;\n",
       "    }\n",
       "\n",
       "    .dataframe thead th {\n",
       "        text-align: right;\n",
       "    }\n",
       "</style>\n",
       "<table border=\"1\" class=\"dataframe\">\n",
       "  <thead>\n",
       "    <tr style=\"text-align: right;\">\n",
       "      <th></th>\n",
       "      <th>margin1</th>\n",
       "      <th>margin2</th>\n",
       "      <th>margin3</th>\n",
       "      <th>margin4</th>\n",
       "      <th>margin5</th>\n",
       "      <th>margin6</th>\n",
       "      <th>margin7</th>\n",
       "      <th>margin8</th>\n",
       "      <th>margin9</th>\n",
       "      <th>margin10</th>\n",
       "      <th>...</th>\n",
       "      <th>texture55</th>\n",
       "      <th>texture56</th>\n",
       "      <th>texture57</th>\n",
       "      <th>texture58</th>\n",
       "      <th>texture59</th>\n",
       "      <th>texture60</th>\n",
       "      <th>texture61</th>\n",
       "      <th>texture62</th>\n",
       "      <th>texture63</th>\n",
       "      <th>texture64</th>\n",
       "    </tr>\n",
       "  </thead>\n",
       "  <tbody>\n",
       "    <tr>\n",
       "      <th>0</th>\n",
       "      <td>0.007812</td>\n",
       "      <td>0.023438</td>\n",
       "      <td>0.023438</td>\n",
       "      <td>0.003906</td>\n",
       "      <td>0.011719</td>\n",
       "      <td>0.009766</td>\n",
       "      <td>0.027344</td>\n",
       "      <td>0.0</td>\n",
       "      <td>0.001953</td>\n",
       "      <td>0.033203</td>\n",
       "      <td>...</td>\n",
       "      <td>0.007812</td>\n",
       "      <td>0.0</td>\n",
       "      <td>0.00293</td>\n",
       "      <td>0.00293</td>\n",
       "      <td>0.035156</td>\n",
       "      <td>0.0</td>\n",
       "      <td>0.0</td>\n",
       "      <td>0.004883</td>\n",
       "      <td>0.0</td>\n",
       "      <td>0.025391</td>\n",
       "    </tr>\n",
       "  </tbody>\n",
       "</table>\n",
       "<p>1 rows × 192 columns</p>\n",
       "</div>"
      ],
      "text/plain": [
       "    margin1   margin2   margin3   margin4   margin5   margin6   margin7  \\\n",
       "0  0.007812  0.023438  0.023438  0.003906  0.011719  0.009766  0.027344   \n",
       "\n",
       "   margin8   margin9  margin10  ...  texture55  texture56  texture57  \\\n",
       "0      0.0  0.001953  0.033203  ...   0.007812        0.0    0.00293   \n",
       "\n",
       "   texture58  texture59  texture60  texture61  texture62  texture63  texture64  \n",
       "0    0.00293   0.035156        0.0        0.0   0.004883        0.0   0.025391  \n",
       "\n",
       "[1 rows x 192 columns]"
      ]
     },
     "execution_count": 10,
     "metadata": {},
     "output_type": "execute_result"
    }
   ],
   "source": [
    "def encode(train, test):\n",
    "    le = LabelEncoder().fit(train.species) \n",
    "    labels = le.transform(train.species)           \n",
    "    classes = list(le.classes_)                    \n",
    "    test_ids = test.id                             \n",
    "    \n",
    "    train = train.drop(['species', 'id'], axis=1)  \n",
    "    test = test.drop(['id'], axis=1)\n",
    "    \n",
    "    return train, labels, test, test_ids, classes\n",
    "\n",
    "train, labels, test, test_ids, classes = encode(train, test)\n",
    "train.head(1)"
   ]
  },
  {
   "cell_type": "markdown",
   "metadata": {
    "papermill": {
     "duration": 0.031477,
     "end_time": "2020-11-26T08:30:34.076027",
     "exception": false,
     "start_time": "2020-11-26T08:30:34.044550",
     "status": "completed"
    },
    "tags": []
   },
   "source": [
    "**Split of data**"
   ]
  },
  {
   "cell_type": "code",
   "execution_count": 11,
   "metadata": {
    "execution": {
     "iopub.execute_input": "2020-11-26T08:30:34.147835Z",
     "iopub.status.busy": "2020-11-26T08:30:34.147093Z",
     "iopub.status.idle": "2020-11-26T08:30:34.193924Z",
     "shell.execute_reply": "2020-11-26T08:30:34.193157Z"
    },
    "papermill": {
     "duration": 0.085642,
     "end_time": "2020-11-26T08:30:34.194079",
     "exception": false,
     "start_time": "2020-11-26T08:30:34.108437",
     "status": "completed"
    },
    "tags": []
   },
   "outputs": [],
   "source": [
    "s = StratifiedShuffleSplit(n_splits=10, test_size=0.2, random_state=0)\n",
    "s.get_n_splits(train, labels)\n",
    "\n",
    "for train_index, test_index in s.split(train, labels):   \n",
    "    X_train, X_test = train.values[train_index], train.values[test_index]\n",
    "    y_train, y_test = labels[train_index], labels[test_index]"
   ]
  },
  {
   "cell_type": "markdown",
   "metadata": {
    "papermill": {
     "duration": 0.034506,
     "end_time": "2020-11-26T08:30:34.264265",
     "exception": false,
     "start_time": "2020-11-26T08:30:34.229759",
     "status": "completed"
    },
    "tags": []
   },
   "source": [
    "**Sklearn Classifier Showdown**\n",
    "\n",
    "**Simply looping through 10 out-of-the box classifiers and printing the results.**"
   ]
  },
  {
   "cell_type": "code",
   "execution_count": 12,
   "metadata": {
    "execution": {
     "iopub.execute_input": "2020-11-26T08:30:34.348911Z",
     "iopub.status.busy": "2020-11-26T08:30:34.345681Z",
     "iopub.status.idle": "2020-11-26T08:36:08.846031Z",
     "shell.execute_reply": "2020-11-26T08:36:08.847107Z"
    },
    "papermill": {
     "duration": 334.549101,
     "end_time": "2020-11-26T08:36:08.847335",
     "exception": false,
     "start_time": "2020-11-26T08:30:34.298234",
     "status": "completed"
    },
    "tags": []
   },
   "outputs": [
    {
     "name": "stdout",
     "output_type": "stream",
     "text": [
      "==============================\n",
      "KNeighborsClassifier\n",
      "****Results****\n",
      "Accuracy: 87.8788%\n",
      "Log Loss: 2.2502083078831476\n",
      "==============================\n",
      "SVC\n",
      "****Results****\n",
      "Accuracy: 84.3434%\n",
      "Log Loss: 4.771027550469246\n",
      "==============================\n",
      "NuSVC\n",
      "****Results****\n",
      "Accuracy: 90.4040%\n",
      "Log Loss: 2.4200723801487474\n",
      "==============================\n",
      "DecisionTreeClassifier\n",
      "****Results****\n",
      "Accuracy: 69.6970%\n",
      "Log Loss: 10.466295877245761\n",
      "==============================\n",
      "RandomForestClassifier\n",
      "****Results****\n",
      "Accuracy: 98.4848%\n",
      "Log Loss: 0.7589851289565154\n",
      "==============================\n",
      "AdaBoostClassifier\n",
      "****Results****\n",
      "Accuracy: 3.0303%\n",
      "Log Loss: 4.290979467326837\n",
      "==============================\n",
      "GradientBoostingClassifier\n",
      "****Results****\n",
      "Accuracy: 65.6566%\n",
      "Log Loss: 2.9734972836220432\n",
      "==============================\n",
      "GaussianNB\n",
      "****Results****\n",
      "Accuracy: 55.0505%\n",
      "Log Loss: 15.506623400535767\n",
      "==============================\n",
      "LinearDiscriminantAnalysis\n",
      "****Results****\n",
      "Accuracy: 97.4747%\n",
      "Log Loss: 0.5108204944709152\n",
      "==============================\n",
      "QuadraticDiscriminantAnalysis\n",
      "****Results****\n",
      "Accuracy: 1.0101%\n",
      "Log Loss: 34.189899865669254\n",
      "==============================\n"
     ]
    }
   ],
   "source": [
    "from sklearn.metrics import accuracy_score, log_loss\n",
    "from sklearn.neighbors import KNeighborsClassifier\n",
    "from sklearn.svm import SVC, LinearSVC, NuSVC\n",
    "from sklearn.tree import DecisionTreeClassifier\n",
    "from sklearn.ensemble import RandomForestClassifier, AdaBoostClassifier, GradientBoostingClassifier\n",
    "from sklearn.naive_bayes import GaussianNB\n",
    "from sklearn.discriminant_analysis import LinearDiscriminantAnalysis\n",
    "from sklearn.discriminant_analysis import QuadraticDiscriminantAnalysis\n",
    "\n",
    "classifiers = [\n",
    "    KNeighborsClassifier(3),\n",
    "    SVC(kernel=\"rbf\", C=0.025, probability=True),\n",
    "    NuSVC(probability=True),\n",
    "    DecisionTreeClassifier(),\n",
    "    RandomForestClassifier(),\n",
    "    AdaBoostClassifier(),\n",
    "    GradientBoostingClassifier(),\n",
    "    GaussianNB(),\n",
    "    LinearDiscriminantAnalysis(),\n",
    "    QuadraticDiscriminantAnalysis()]\n",
    "\n",
    "# Logging for Visual Comparison\n",
    "log_cols=[\"Classifier\", \"Accuracy\", \"Log Loss\"]\n",
    "log = pd.DataFrame(columns=log_cols)\n",
    "\n",
    "for clf in classifiers:\n",
    "    clf.fit(X_train, y_train)\n",
    "    name = clf.__class__.__name__\n",
    "    \n",
    "    print(\"=\"*30)\n",
    "    print(name)\n",
    "    \n",
    "    print('****Results****')\n",
    "    train_predictions = clf.predict(X_test)\n",
    "    acc = accuracy_score(y_test, train_predictions)\n",
    "    print(\"Accuracy: {:.4%}\".format(acc))\n",
    "    \n",
    "    train_predictions = clf.predict_proba(X_test)\n",
    "    ll = log_loss(y_test, train_predictions)\n",
    "    print(\"Log Loss: {}\".format(ll))\n",
    "    \n",
    "    log_entry = pd.DataFrame([[name, acc*100, ll]], columns=log_cols)\n",
    "    log = log.append(log_entry)\n",
    "    \n",
    "print(\"=\"*30)"
   ]
  },
  {
   "cell_type": "markdown",
   "metadata": {
    "papermill": {
     "duration": 0.035923,
     "end_time": "2020-11-26T08:36:08.918346",
     "exception": false,
     "start_time": "2020-11-26T08:36:08.882423",
     "status": "completed"
    },
    "tags": []
   },
   "source": [
    "**Plotting the values**"
   ]
  },
  {
   "cell_type": "code",
   "execution_count": 13,
   "metadata": {
    "execution": {
     "iopub.execute_input": "2020-11-26T08:36:09.034466Z",
     "iopub.status.busy": "2020-11-26T08:36:09.033458Z",
     "iopub.status.idle": "2020-11-26T08:36:09.507819Z",
     "shell.execute_reply": "2020-11-26T08:36:09.508445Z"
    },
    "papermill": {
     "duration": 0.551272,
     "end_time": "2020-11-26T08:36:09.508626",
     "exception": false,
     "start_time": "2020-11-26T08:36:08.957354",
     "status": "completed"
    },
    "tags": []
   },
   "outputs": [
    {
     "data": {
      "image/png": "[encoded data removed]",
      "text/plain": [
       "<Figure size 432x288 with 1 Axes>"
      ]
     },
     "metadata": {
      "needs_background": "light"
     },
     "output_type": "display_data"
    },
    {
     "data": {
      "image/png": "[encoded data removed]",
      "text/plain": [
       "<Figure size 432x288 with 1 Axes>"
      ]
     },
     "metadata": {
      "needs_background": "light"
     },
     "output_type": "display_data"
    }
   ],
   "source": [
    "sns.set_color_codes(\"muted\")\n",
    "sns.barplot(x='Accuracy', y='Classifier', data=log, color=\"b\")\n",
    "\n",
    "plt.xlabel('Accuracy %')\n",
    "plt.title('Classifier Accuracy')\n",
    "plt.show()\n",
    "\n",
    "sns.set_color_codes(\"muted\")\n",
    "sns.barplot(x='Log Loss', y='Classifier', data=log, color=\"g\")\n",
    "\n",
    "plt.xlabel('Log Loss')\n",
    "plt.title('Classifier Log Loss')\n",
    "plt.show()"
   ]
  },
  {
   "cell_type": "markdown",
   "metadata": {
    "papermill": {
     "duration": 0.037879,
     "end_time": "2020-11-26T08:36:09.590379",
     "exception": false,
     "start_time": "2020-11-26T08:36:09.552500",
     "status": "completed"
    },
    "tags": []
   },
   "source": [
    "**From above results parameter tuning is required for some classifiers**"
   ]
  },
  {
   "cell_type": "code",
   "execution_count": 14,
   "metadata": {
    "execution": {
     "iopub.execute_input": "2020-11-26T08:36:09.674790Z",
     "iopub.status.busy": "2020-11-26T08:36:09.673743Z",
     "iopub.status.idle": "2020-11-26T08:36:09.678818Z",
     "shell.execute_reply": "2020-11-26T08:36:09.679401Z"
    },
    "papermill": {
     "duration": 0.051126,
     "end_time": "2020-11-26T08:36:09.679573",
     "exception": false,
     "start_time": "2020-11-26T08:36:09.628447",
     "status": "completed"
    },
    "tags": []
   },
   "outputs": [
    {
     "data": {
      "text/plain": [
       "99"
      ]
     },
     "execution_count": 14,
     "metadata": {},
     "output_type": "execute_result"
    }
   ],
   "source": [
    "train_df['species'].nunique()"
   ]
  },
  {
   "cell_type": "markdown",
   "metadata": {
    "papermill": {
     "duration": 0.043561,
     "end_time": "2020-11-26T08:36:09.764173",
     "exception": false,
     "start_time": "2020-11-26T08:36:09.720612",
     "status": "completed"
    },
    "tags": []
   },
   "source": [
    "**99 uniques species**"
   ]
  },
  {
   "cell_type": "code",
   "execution_count": 15,
   "metadata": {
    "execution": {
     "iopub.execute_input": "2020-11-26T08:36:09.858359Z",
     "iopub.status.busy": "2020-11-26T08:36:09.857359Z",
     "iopub.status.idle": "2020-11-26T08:36:09.863826Z",
     "shell.execute_reply": "2020-11-26T08:36:09.862906Z"
    },
    "papermill": {
     "duration": 0.058174,
     "end_time": "2020-11-26T08:36:09.864008",
     "exception": false,
     "start_time": "2020-11-26T08:36:09.805834",
     "status": "completed"
    },
    "tags": []
   },
   "outputs": [
    {
     "data": {
      "text/plain": [
       "Crataegus_Monogyna              10\n",
       "Quercus_Variabilis              10\n",
       "Callicarpa_Bodinieri            10\n",
       "Alnus_Sieboldiana               10\n",
       "Quercus_Afares                  10\n",
       "                                ..\n",
       "Cornus_Chinensis                10\n",
       "Acer_Mono                       10\n",
       "Quercus_Alnifolia               10\n",
       "Viburnum_x_Rhytidophylloides    10\n",
       "Acer_Capillipes                 10\n",
       "Name: species, Length: 99, dtype: int64"
      ]
     },
     "execution_count": 15,
     "metadata": {},
     "output_type": "execute_result"
    }
   ],
   "source": [
    "train_df['species'].value_counts()"
   ]
  },
  {
   "cell_type": "markdown",
   "metadata": {
    "papermill": {
     "duration": 0.038584,
     "end_time": "2020-11-26T08:36:09.944165",
     "exception": false,
     "start_time": "2020-11-26T08:36:09.905581",
     "status": "completed"
    },
    "tags": []
   },
   "source": [
    "**Each species has 10 samples in training set**"
   ]
  },
  {
   "cell_type": "markdown",
   "metadata": {
    "papermill": {
     "duration": 0.045987,
     "end_time": "2020-11-26T08:36:10.032824",
     "exception": false,
     "start_time": "2020-11-26T08:36:09.986837",
     "status": "completed"
    },
    "tags": []
   },
   "source": [
    "**Target: classify 594 test samples into 99 species**"
   ]
  },
  {
   "cell_type": "markdown",
   "metadata": {
    "papermill": {
     "duration": 0.043375,
     "end_time": "2020-11-26T08:36:10.115018",
     "exception": false,
     "start_time": "2020-11-26T08:36:10.071643",
     "status": "completed"
    },
    "tags": []
   },
   "source": [
    "**Model selection, model training & fine tuning**\n",
    "\n",
    "**Three classifiers are considered in this notebook: Random forest classifier, Support vector machine classifier and** **KNeighbors classifier.**\n",
    "\n",
    "**GridSearchCV is used to fine-tune some hyperparameters**"
   ]
  },
  {
   "cell_type": "code",
   "execution_count": 16,
   "metadata": {
    "execution": {
     "iopub.execute_input": "2020-11-26T08:36:10.209505Z",
     "iopub.status.busy": "2020-11-26T08:36:10.208703Z",
     "iopub.status.idle": "2020-11-26T08:36:10.212743Z",
     "shell.execute_reply": "2020-11-26T08:36:10.211900Z"
    },
    "papermill": {
     "duration": 0.055274,
     "end_time": "2020-11-26T08:36:10.212871",
     "exception": false,
     "start_time": "2020-11-26T08:36:10.157597",
     "status": "completed"
    },
    "tags": []
   },
   "outputs": [],
   "source": [
    "from sklearn.model_selection import ShuffleSplit, GridSearchCV"
   ]
  },
  {
   "cell_type": "code",
   "execution_count": 17,
   "metadata": {
    "execution": {
     "iopub.execute_input": "2020-11-26T08:36:10.310500Z",
     "iopub.status.busy": "2020-11-26T08:36:10.309211Z",
     "iopub.status.idle": "2020-11-26T08:36:10.314044Z",
     "shell.execute_reply": "2020-11-26T08:36:10.313283Z"
    },
    "papermill": {
     "duration": 0.061531,
     "end_time": "2020-11-26T08:36:10.314169",
     "exception": false,
     "start_time": "2020-11-26T08:36:10.252638",
     "status": "completed"
    },
    "tags": []
   },
   "outputs": [],
   "source": [
    "cv_sets = ShuffleSplit(n_splits=10,test_size=0.20,random_state=42)\n",
    "classifiers = [RandomForestClassifier(), SVC(), KNeighborsClassifier()]\n",
    "params = [{'n_estimators' : [3,10,30], 'max_features':[2,4,6,8]},\n",
    "          {'kernel':('linear','poly','sigmoid','rbf'),'C':[0.01,0.05,0.025,0.07,0.09,1.0], 'gamma':['scale'], 'probability':[True]},\n",
    "          {'n_neighbors': [3,5,7,9]}]"
   ]
  },
  {
   "cell_type": "code",
   "execution_count": 18,
   "metadata": {
    "execution": {
     "iopub.execute_input": "2020-11-26T08:36:10.402362Z",
     "iopub.status.busy": "2020-11-26T08:36:10.401561Z",
     "iopub.status.idle": "2020-11-26T08:43:10.170163Z",
     "shell.execute_reply": "2020-11-26T08:43:10.169221Z"
    },
    "papermill": {
     "duration": 419.815834,
     "end_time": "2020-11-26T08:43:10.170323",
     "exception": false,
     "start_time": "2020-11-26T08:36:10.354489",
     "status": "completed"
    },
    "tags": []
   },
   "outputs": [],
   "source": [
    "best_estimators = []\n",
    "for classifier, param in zip(classifiers, params):\n",
    "    grid = GridSearchCV(classifier,param,cv=cv_sets)\n",
    "    grid = grid.fit(X_train,y_train)\n",
    "    best_estimators.append(grid.best_estimator_)"
   ]
  },
  {
   "cell_type": "code",
   "execution_count": 19,
   "metadata": {
    "execution": {
     "iopub.execute_input": "2020-11-26T08:43:10.260291Z",
     "iopub.status.busy": "2020-11-26T08:43:10.259272Z",
     "iopub.status.idle": "2020-11-26T08:43:10.272026Z",
     "shell.execute_reply": "2020-11-26T08:43:10.271163Z"
    },
    "papermill": {
     "duration": 0.060487,
     "end_time": "2020-11-26T08:43:10.272236",
     "exception": false,
     "start_time": "2020-11-26T08:43:10.211749",
     "status": "completed"
    },
    "tags": []
   },
   "outputs": [
    {
     "data": {
      "text/plain": [
       "[RandomForestClassifier(max_features=8, n_estimators=30),\n",
       " SVC(probability=True),\n",
       " KNeighborsClassifier(n_neighbors=3)]"
      ]
     },
     "execution_count": 19,
     "metadata": {},
     "output_type": "execute_result"
    }
   ],
   "source": [
    "best_estimators"
   ]
  },
  {
   "cell_type": "code",
   "execution_count": 20,
   "metadata": {
    "execution": {
     "iopub.execute_input": "2020-11-26T08:43:10.364983Z",
     "iopub.status.busy": "2020-11-26T08:43:10.364088Z",
     "iopub.status.idle": "2020-11-26T08:43:15.324077Z",
     "shell.execute_reply": "2020-11-26T08:43:15.323294Z"
    },
    "papermill": {
     "duration": 5.012383,
     "end_time": "2020-11-26T08:43:15.324473",
     "exception": false,
     "start_time": "2020-11-26T08:43:10.312090",
     "status": "completed"
    },
    "tags": []
   },
   "outputs": [
    {
     "name": "stdout",
     "output_type": "stream",
     "text": [
      "==============================\n",
      "RandomForestClassifier\n",
      "****Results****\n",
      "**Training set**\n",
      "Accuracy: 100.0000%\n",
      "Log Loss: 0.23322079317500805\n",
      "**Validation set**\n",
      "Accuracy: 92.4242%\n",
      "Log Loss: 0.7892055481585796\n",
      "==============================\n",
      "SVC\n",
      "****Results****\n",
      "**Training set**\n",
      "Accuracy: 98.7374%\n",
      "Log Loss: 2.111373324902446\n",
      "**Validation set**\n",
      "Accuracy: 89.8990%\n",
      "Log Loss: 2.3745802370657234\n",
      "==============================\n",
      "KNeighborsClassifier\n",
      "****Results****\n",
      "**Training set**\n",
      "Accuracy: 94.3182%\n",
      "Log Loss: 0.15234157438733176\n",
      "**Validation set**\n",
      "Accuracy: 87.8788%\n",
      "Log Loss: 2.2502083078831476\n",
      "==============================\n"
     ]
    }
   ],
   "source": [
    "for estimator in best_estimators:\n",
    "    estimator.fit(X_train, y_train)\n",
    "    name = estimator.__class__.__name__\n",
    "    \n",
    "    print(\"=\"*30)\n",
    "    print(name)\n",
    "    \n",
    "    print('****Results****')\n",
    "    print('**Training set**')\n",
    "    train_predictions = estimator.predict(X_train)\n",
    "    acc = accuracy_score(y_train, train_predictions)\n",
    "    print(\"Accuracy: {:.4%}\".format(acc))\n",
    "    train_predictions = estimator.predict_proba(X_train)\n",
    "    ll = log_loss(y_train, train_predictions)\n",
    "    print(\"Log Loss: {}\".format(ll))\n",
    "    \n",
    "    print('**Validation set**')\n",
    "    train_predictions = estimator.predict(X_test)\n",
    "    acc = accuracy_score(y_test, train_predictions)\n",
    "    print(\"Accuracy: {:.4%}\".format(acc))\n",
    "    train_predictions = estimator.predict_proba(X_test)\n",
    "    ll = log_loss(y_test, train_predictions)\n",
    "    print(\"Log Loss: {}\".format(ll))\n",
    "    \n",
    "print(\"=\"*30)"
   ]
  }
 ],
 "metadata": {
  "kernelspec": {
   "display_name": "Python 3",
   "language": "python",
   "name": "python3"
  },
  "language_info": {
   "codemirror_mode": {
    "name": "ipython",
    "version": 3
   },
   "file_extension": ".py",
   "mimetype": "text/x-python",
   "name": "python",
   "nbconvert_exporter": "python",
   "pygments_lexer": "ipython3",
   "version": "3.7.6"
  },
  "papermill": {
   "duration": 769.973314,
   "end_time": "2020-11-26T08:43:15.482567",
   "environment_variables": {},
   "exception": null,
   "input_path": "__notebook__.ipynb",
   "output_path": "__notebook__.ipynb",
   "parameters": {},
   "start_time": "2020-11-26T08:30:25.509253",
   "version": "2.1.0"
  }
 },
 "nbformat": 4,
 "nbformat_minor": 4
}
