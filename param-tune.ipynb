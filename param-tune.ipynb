{
 "cells": [
  {
   "cell_type": "code",
   "execution_count": 1,
   "metadata": {
    "_cell_guid": "b1076dfc-b9ad-4769-8c92-a6c4dae69d19",
    "_uuid": "8f2839f25d086af736a60e9eeb907d3b93b6e0e5",
    "execution": {
     "iopub.execute_input": "2020-10-30T09:39:32.711785Z",
     "iopub.status.busy": "2020-10-30T09:39:32.710740Z",
     "iopub.status.idle": "2020-10-30T09:39:32.715106Z",
     "shell.execute_reply": "2020-10-30T09:39:32.715742Z"
    },
    "papermill": {
     "duration": 0.032011,
     "end_time": "2020-10-30T09:39:32.715953",
     "exception": false,
     "start_time": "2020-10-30T09:39:32.683942",
     "status": "completed"
    },
    "tags": []
   },
   "outputs": [
    {
     "name": "stdout",
     "output_type": "stream",
     "text": [
      "/kaggle/input/leaf-classification/train.csv.zip\n",
      "/kaggle/input/leaf-classification/test.csv.zip\n",
      "/kaggle/input/leaf-classification/sample_submission.csv.zip\n",
      "/kaggle/input/leaf-classification/images.zip\n"
     ]
    }
   ],
   "source": [
    "# This Python 3 environment comes with many helpful analytics libraries installed\n",
    "# It is defined by the kaggle/python Docker image: https://github.com/kaggle/docker-python\n",
    "# For example, here's several helpful packages to load\n",
    "\n",
    "import numpy as np # linear algebra\n",
    "import pandas as pd # data processing, CSV file I/O (e.g. pd.read_csv)\n",
    "\n",
    "# Input data files are available in the read-only \"../input/\" directory\n",
    "# For example, running this (by clicking run or pressing Shift+Enter) will list all files under the input directory\n",
    "\n",
    "import os\n",
    "for dirname, _, filenames in os.walk('/kaggle/input'):\n",
    "    for filename in filenames:\n",
    "        print(os.path.join(dirname, filename))\n",
    "\n",
    "# You can write up to 20GB to the current directory (/kaggle/working/) that gets preserved as output when you create a version using \"Save & Run All\" \n",
    "# You can also write temporary files to /kaggle/temp/, but they won't be saved outside of the current session"
   ]
  },
  {
   "cell_type": "markdown",
   "metadata": {
    "papermill": {
     "duration": 0.019577,
     "end_time": "2020-10-30T09:39:32.758520",
     "exception": false,
     "start_time": "2020-10-30T09:39:32.738943",
     "status": "completed"
    },
    "tags": []
   },
   "source": [
    "**Importing Libraries**"
   ]
  },
  {
   "cell_type": "code",
   "execution_count": 2,
   "metadata": {
    "_cell_guid": "79c7e3d0-c299-4dcb-8224-4455121ee9b0",
    "_uuid": "d629ff2d2480ee46fbb7e2d37f6b5fab8052498a",
    "execution": {
     "iopub.execute_input": "2020-10-30T09:39:32.806625Z",
     "iopub.status.busy": "2020-10-30T09:39:32.805974Z",
     "iopub.status.idle": "2020-10-30T09:39:34.025370Z",
     "shell.execute_reply": "2020-10-30T09:39:34.024660Z"
    },
    "papermill": {
     "duration": 1.246923,
     "end_time": "2020-10-30T09:39:34.025495",
     "exception": false,
     "start_time": "2020-10-30T09:39:32.778572",
     "status": "completed"
    },
    "tags": []
   },
   "outputs": [],
   "source": [
    "import numpy as np\n",
    "import pandas as pd\n",
    "\n",
    "import matplotlib.pyplot as plt\n",
    "import seaborn as sns\n",
    "\n",
    "import sklearn\n",
    "from sklearn.preprocessing import LabelEncoder, StandardScaler\n",
    "from sklearn.model_selection import StratifiedShuffleSplit, ShuffleSplit, GridSearchCV\n",
    "\n",
    "from sklearn.metrics import accuracy_score, log_loss\n",
    "from sklearn.neighbors import KNeighborsClassifier\n",
    "from sklearn.svm import SVC\n",
    "from sklearn.ensemble import RandomForestClassifier\n",
    "\n",
    "%matplotlib inline"
   ]
  },
  {
   "cell_type": "markdown",
   "metadata": {
    "papermill": {
     "duration": 0.019778,
     "end_time": "2020-10-30T09:39:34.065622",
     "exception": false,
     "start_time": "2020-10-30T09:39:34.045844",
     "status": "completed"
    },
    "tags": []
   },
   "source": [
    "**Loading the data**"
   ]
  },
  {
   "cell_type": "code",
   "execution_count": 3,
   "metadata": {
    "execution": {
     "iopub.execute_input": "2020-10-30T09:39:34.111468Z",
     "iopub.status.busy": "2020-10-30T09:39:34.110771Z",
     "iopub.status.idle": "2020-10-30T09:39:34.205242Z",
     "shell.execute_reply": "2020-10-30T09:39:34.204569Z"
    },
    "papermill": {
     "duration": 0.119568,
     "end_time": "2020-10-30T09:39:34.205376",
     "exception": false,
     "start_time": "2020-10-30T09:39:34.085808",
     "status": "completed"
    },
    "tags": []
   },
   "outputs": [],
   "source": [
    "train = pd.read_csv(\"/kaggle/input/leaf-classification/train.csv.zip\")\n",
    "test = pd.read_csv(\"/kaggle/input/leaf-classification/test.csv.zip\")"
   ]
  },
  {
   "cell_type": "markdown",
   "metadata": {
    "papermill": {
     "duration": 0.019954,
     "end_time": "2020-10-30T09:39:34.245646",
     "exception": false,
     "start_time": "2020-10-30T09:39:34.225692",
     "status": "completed"
    },
    "tags": []
   },
   "source": [
    "**Exploration of data**"
   ]
  },
  {
   "cell_type": "code",
   "execution_count": 4,
   "metadata": {
    "execution": {
     "iopub.execute_input": "2020-10-30T09:39:34.309397Z",
     "iopub.status.busy": "2020-10-30T09:39:34.306627Z",
     "iopub.status.idle": "2020-10-30T09:39:34.323817Z",
     "shell.execute_reply": "2020-10-30T09:39:34.324328Z"
    },
    "papermill": {
     "duration": 0.058733,
     "end_time": "2020-10-30T09:39:34.324476",
     "exception": false,
     "start_time": "2020-10-30T09:39:34.265743",
     "status": "completed"
    },
    "tags": []
   },
   "outputs": [
    {
     "data": {
      "text/html": [
       "<div>\n",
       "<style scoped>\n",
       "    .dataframe tbody tr th:only-of-type {\n",
       "        vertical-align: middle;\n",
       "    }\n",
       "\n",
       "    .dataframe tbody tr th {\n",
       "        vertical-align: top;\n",
       "    }\n",
       "\n",
       "    .dataframe thead th {\n",
       "        text-align: right;\n",
       "    }\n",
       "</style>\n",
       "<table border=\"1\" class=\"dataframe\">\n",
       "  <thead>\n",
       "    <tr style=\"text-align: right;\">\n",
       "      <th></th>\n",
       "      <th>id</th>\n",
       "      <th>species</th>\n",
       "      <th>margin1</th>\n",
       "      <th>margin2</th>\n",
       "      <th>margin3</th>\n",
       "      <th>margin4</th>\n",
       "      <th>margin5</th>\n",
       "      <th>margin6</th>\n",
       "      <th>margin7</th>\n",
       "      <th>margin8</th>\n",
       "      <th>...</th>\n",
       "      <th>texture55</th>\n",
       "      <th>texture56</th>\n",
       "      <th>texture57</th>\n",
       "      <th>texture58</th>\n",
       "      <th>texture59</th>\n",
       "      <th>texture60</th>\n",
       "      <th>texture61</th>\n",
       "      <th>texture62</th>\n",
       "      <th>texture63</th>\n",
       "      <th>texture64</th>\n",
       "    </tr>\n",
       "  </thead>\n",
       "  <tbody>\n",
       "    <tr>\n",
       "      <th>0</th>\n",
       "      <td>1</td>\n",
       "      <td>Acer_Opalus</td>\n",
       "      <td>0.007812</td>\n",
       "      <td>0.023438</td>\n",
       "      <td>0.023438</td>\n",
       "      <td>0.003906</td>\n",
       "      <td>0.011719</td>\n",
       "      <td>0.009766</td>\n",
       "      <td>0.027344</td>\n",
       "      <td>0.0</td>\n",
       "      <td>...</td>\n",
       "      <td>0.007812</td>\n",
       "      <td>0.000000</td>\n",
       "      <td>0.002930</td>\n",
       "      <td>0.002930</td>\n",
       "      <td>0.035156</td>\n",
       "      <td>0.0</td>\n",
       "      <td>0.0</td>\n",
       "      <td>0.004883</td>\n",
       "      <td>0.000000</td>\n",
       "      <td>0.025391</td>\n",
       "    </tr>\n",
       "    <tr>\n",
       "      <th>1</th>\n",
       "      <td>2</td>\n",
       "      <td>Pterocarya_Stenoptera</td>\n",
       "      <td>0.005859</td>\n",
       "      <td>0.000000</td>\n",
       "      <td>0.031250</td>\n",
       "      <td>0.015625</td>\n",
       "      <td>0.025391</td>\n",
       "      <td>0.001953</td>\n",
       "      <td>0.019531</td>\n",
       "      <td>0.0</td>\n",
       "      <td>...</td>\n",
       "      <td>0.000977</td>\n",
       "      <td>0.000000</td>\n",
       "      <td>0.000000</td>\n",
       "      <td>0.000977</td>\n",
       "      <td>0.023438</td>\n",
       "      <td>0.0</td>\n",
       "      <td>0.0</td>\n",
       "      <td>0.000977</td>\n",
       "      <td>0.039062</td>\n",
       "      <td>0.022461</td>\n",
       "    </tr>\n",
       "    <tr>\n",
       "      <th>2</th>\n",
       "      <td>3</td>\n",
       "      <td>Quercus_Hartwissiana</td>\n",
       "      <td>0.005859</td>\n",
       "      <td>0.009766</td>\n",
       "      <td>0.019531</td>\n",
       "      <td>0.007812</td>\n",
       "      <td>0.003906</td>\n",
       "      <td>0.005859</td>\n",
       "      <td>0.068359</td>\n",
       "      <td>0.0</td>\n",
       "      <td>...</td>\n",
       "      <td>0.154300</td>\n",
       "      <td>0.000000</td>\n",
       "      <td>0.005859</td>\n",
       "      <td>0.000977</td>\n",
       "      <td>0.007812</td>\n",
       "      <td>0.0</td>\n",
       "      <td>0.0</td>\n",
       "      <td>0.000000</td>\n",
       "      <td>0.020508</td>\n",
       "      <td>0.002930</td>\n",
       "    </tr>\n",
       "    <tr>\n",
       "      <th>3</th>\n",
       "      <td>5</td>\n",
       "      <td>Tilia_Tomentosa</td>\n",
       "      <td>0.000000</td>\n",
       "      <td>0.003906</td>\n",
       "      <td>0.023438</td>\n",
       "      <td>0.005859</td>\n",
       "      <td>0.021484</td>\n",
       "      <td>0.019531</td>\n",
       "      <td>0.023438</td>\n",
       "      <td>0.0</td>\n",
       "      <td>...</td>\n",
       "      <td>0.000000</td>\n",
       "      <td>0.000977</td>\n",
       "      <td>0.000000</td>\n",
       "      <td>0.000000</td>\n",
       "      <td>0.020508</td>\n",
       "      <td>0.0</td>\n",
       "      <td>0.0</td>\n",
       "      <td>0.017578</td>\n",
       "      <td>0.000000</td>\n",
       "      <td>0.047852</td>\n",
       "    </tr>\n",
       "    <tr>\n",
       "      <th>4</th>\n",
       "      <td>6</td>\n",
       "      <td>Quercus_Variabilis</td>\n",
       "      <td>0.005859</td>\n",
       "      <td>0.003906</td>\n",
       "      <td>0.048828</td>\n",
       "      <td>0.009766</td>\n",
       "      <td>0.013672</td>\n",
       "      <td>0.015625</td>\n",
       "      <td>0.005859</td>\n",
       "      <td>0.0</td>\n",
       "      <td>...</td>\n",
       "      <td>0.096680</td>\n",
       "      <td>0.000000</td>\n",
       "      <td>0.021484</td>\n",
       "      <td>0.000000</td>\n",
       "      <td>0.000000</td>\n",
       "      <td>0.0</td>\n",
       "      <td>0.0</td>\n",
       "      <td>0.000000</td>\n",
       "      <td>0.000000</td>\n",
       "      <td>0.031250</td>\n",
       "    </tr>\n",
       "  </tbody>\n",
       "</table>\n",
       "<p>5 rows × 194 columns</p>\n",
       "</div>"
      ],
      "text/plain": [
       "   id                species   margin1   margin2   margin3   margin4  \\\n",
       "0   1            Acer_Opalus  0.007812  0.023438  0.023438  0.003906   \n",
       "1   2  Pterocarya_Stenoptera  0.005859  0.000000  0.031250  0.015625   \n",
       "2   3   Quercus_Hartwissiana  0.005859  0.009766  0.019531  0.007812   \n",
       "3   5        Tilia_Tomentosa  0.000000  0.003906  0.023438  0.005859   \n",
       "4   6     Quercus_Variabilis  0.005859  0.003906  0.048828  0.009766   \n",
       "\n",
       "    margin5   margin6   margin7  margin8  ...  texture55  texture56  \\\n",
       "0  0.011719  0.009766  0.027344      0.0  ...   0.007812   0.000000   \n",
       "1  0.025391  0.001953  0.019531      0.0  ...   0.000977   0.000000   \n",
       "2  0.003906  0.005859  0.068359      0.0  ...   0.154300   0.000000   \n",
       "3  0.021484  0.019531  0.023438      0.0  ...   0.000000   0.000977   \n",
       "4  0.013672  0.015625  0.005859      0.0  ...   0.096680   0.000000   \n",
       "\n",
       "   texture57  texture58  texture59  texture60  texture61  texture62  \\\n",
       "0   0.002930   0.002930   0.035156        0.0        0.0   0.004883   \n",
       "1   0.000000   0.000977   0.023438        0.0        0.0   0.000977   \n",
       "2   0.005859   0.000977   0.007812        0.0        0.0   0.000000   \n",
       "3   0.000000   0.000000   0.020508        0.0        0.0   0.017578   \n",
       "4   0.021484   0.000000   0.000000        0.0        0.0   0.000000   \n",
       "\n",
       "   texture63  texture64  \n",
       "0   0.000000   0.025391  \n",
       "1   0.039062   0.022461  \n",
       "2   0.020508   0.002930  \n",
       "3   0.000000   0.047852  \n",
       "4   0.000000   0.031250  \n",
       "\n",
       "[5 rows x 194 columns]"
      ]
     },
     "execution_count": 4,
     "metadata": {},
     "output_type": "execute_result"
    }
   ],
   "source": [
    "train.head()"
   ]
  },
  {
   "cell_type": "code",
   "execution_count": 5,
   "metadata": {
    "execution": {
     "iopub.execute_input": "2020-10-30T09:39:34.384056Z",
     "iopub.status.busy": "2020-10-30T09:39:34.380657Z",
     "iopub.status.idle": "2020-10-30T09:39:34.388106Z",
     "shell.execute_reply": "2020-10-30T09:39:34.387327Z"
    },
    "papermill": {
     "duration": 0.042378,
     "end_time": "2020-10-30T09:39:34.388283",
     "exception": false,
     "start_time": "2020-10-30T09:39:34.345905",
     "status": "completed"
    },
    "tags": []
   },
   "outputs": [
    {
     "name": "stdout",
     "output_type": "stream",
     "text": [
      "<class 'pandas.core.frame.DataFrame'>\n",
      "RangeIndex: 990 entries, 0 to 989\n",
      "Columns: 194 entries, id to texture64\n",
      "dtypes: float64(192), int64(1), object(1)\n",
      "memory usage: 1.5+ MB\n"
     ]
    }
   ],
   "source": [
    "train.info()"
   ]
  },
  {
   "cell_type": "markdown",
   "metadata": {
    "papermill": {
     "duration": 0.021407,
     "end_time": "2020-10-30T09:39:34.431483",
     "exception": false,
     "start_time": "2020-10-30T09:39:34.410076",
     "status": "completed"
    },
    "tags": []
   },
   "source": [
    "**990 samples, 192 features**"
   ]
  },
  {
   "cell_type": "code",
   "execution_count": 6,
   "metadata": {
    "execution": {
     "iopub.execute_input": "2020-10-30T09:39:34.479885Z",
     "iopub.status.busy": "2020-10-30T09:39:34.479038Z",
     "iopub.status.idle": "2020-10-30T09:39:34.483256Z",
     "shell.execute_reply": "2020-10-30T09:39:34.482780Z"
    },
    "papermill": {
     "duration": 0.030673,
     "end_time": "2020-10-30T09:39:34.483374",
     "exception": false,
     "start_time": "2020-10-30T09:39:34.452701",
     "status": "completed"
    },
    "tags": []
   },
   "outputs": [
    {
     "data": {
      "text/plain": [
       "99"
      ]
     },
     "execution_count": 6,
     "metadata": {},
     "output_type": "execute_result"
    }
   ],
   "source": [
    "train['species'].nunique()"
   ]
  },
  {
   "cell_type": "markdown",
   "metadata": {
    "papermill": {
     "duration": 0.021306,
     "end_time": "2020-10-30T09:39:34.526272",
     "exception": false,
     "start_time": "2020-10-30T09:39:34.504966",
     "status": "completed"
    },
    "tags": []
   },
   "source": [
    "**99 unique species**"
   ]
  },
  {
   "cell_type": "code",
   "execution_count": 7,
   "metadata": {
    "execution": {
     "iopub.execute_input": "2020-10-30T09:39:34.577711Z",
     "iopub.status.busy": "2020-10-30T09:39:34.576747Z",
     "iopub.status.idle": "2020-10-30T09:39:34.580426Z",
     "shell.execute_reply": "2020-10-30T09:39:34.579818Z"
    },
    "papermill": {
     "duration": 0.03274,
     "end_time": "2020-10-30T09:39:34.580534",
     "exception": false,
     "start_time": "2020-10-30T09:39:34.547794",
     "status": "completed"
    },
    "tags": []
   },
   "outputs": [
    {
     "data": {
      "text/plain": [
       "Alnus_Cordata                10\n",
       "Quercus_Canariensis          10\n",
       "Populus_Nigra                10\n",
       "Betula_Austrosinensis        10\n",
       "Ilex_Cornuta                 10\n",
       "                             ..\n",
       "Quercus_Imbricaria           10\n",
       "Lithocarpus_Cleistocarpus    10\n",
       "Quercus_Agrifolia            10\n",
       "Pterocarya_Stenoptera        10\n",
       "Quercus_Rhysophylla          10\n",
       "Name: species, Length: 99, dtype: int64"
      ]
     },
     "execution_count": 7,
     "metadata": {},
     "output_type": "execute_result"
    }
   ],
   "source": [
    "train['species'].value_counts()"
   ]
  },
  {
   "cell_type": "markdown",
   "metadata": {
    "papermill": {
     "duration": 0.021757,
     "end_time": "2020-10-30T09:39:34.624396",
     "exception": false,
     "start_time": "2020-10-30T09:39:34.602639",
     "status": "completed"
    },
    "tags": []
   },
   "source": [
    "**each species has 10 samples in training set**"
   ]
  },
  {
   "cell_type": "code",
   "execution_count": 8,
   "metadata": {
    "execution": {
     "iopub.execute_input": "2020-10-30T09:39:34.692090Z",
     "iopub.status.busy": "2020-10-30T09:39:34.691222Z",
     "iopub.status.idle": "2020-10-30T09:39:34.695424Z",
     "shell.execute_reply": "2020-10-30T09:39:34.694827Z"
    },
    "papermill": {
     "duration": 0.0491,
     "end_time": "2020-10-30T09:39:34.695532",
     "exception": false,
     "start_time": "2020-10-30T09:39:34.646432",
     "status": "completed"
    },
    "tags": []
   },
   "outputs": [
    {
     "data": {
      "text/html": [
       "<div>\n",
       "<style scoped>\n",
       "    .dataframe tbody tr th:only-of-type {\n",
       "        vertical-align: middle;\n",
       "    }\n",
       "\n",
       "    .dataframe tbody tr th {\n",
       "        vertical-align: top;\n",
       "    }\n",
       "\n",
       "    .dataframe thead th {\n",
       "        text-align: right;\n",
       "    }\n",
       "</style>\n",
       "<table border=\"1\" class=\"dataframe\">\n",
       "  <thead>\n",
       "    <tr style=\"text-align: right;\">\n",
       "      <th></th>\n",
       "      <th>id</th>\n",
       "      <th>margin1</th>\n",
       "      <th>margin2</th>\n",
       "      <th>margin3</th>\n",
       "      <th>margin4</th>\n",
       "      <th>margin5</th>\n",
       "      <th>margin6</th>\n",
       "      <th>margin7</th>\n",
       "      <th>margin8</th>\n",
       "      <th>margin9</th>\n",
       "      <th>...</th>\n",
       "      <th>texture55</th>\n",
       "      <th>texture56</th>\n",
       "      <th>texture57</th>\n",
       "      <th>texture58</th>\n",
       "      <th>texture59</th>\n",
       "      <th>texture60</th>\n",
       "      <th>texture61</th>\n",
       "      <th>texture62</th>\n",
       "      <th>texture63</th>\n",
       "      <th>texture64</th>\n",
       "    </tr>\n",
       "  </thead>\n",
       "  <tbody>\n",
       "    <tr>\n",
       "      <th>0</th>\n",
       "      <td>4</td>\n",
       "      <td>0.019531</td>\n",
       "      <td>0.009766</td>\n",
       "      <td>0.078125</td>\n",
       "      <td>0.011719</td>\n",
       "      <td>0.003906</td>\n",
       "      <td>0.015625</td>\n",
       "      <td>0.005859</td>\n",
       "      <td>0.0</td>\n",
       "      <td>0.005859</td>\n",
       "      <td>...</td>\n",
       "      <td>0.006836</td>\n",
       "      <td>0.000000</td>\n",
       "      <td>0.015625</td>\n",
       "      <td>0.000977</td>\n",
       "      <td>0.015625</td>\n",
       "      <td>0.0</td>\n",
       "      <td>0.0</td>\n",
       "      <td>0.000000</td>\n",
       "      <td>0.003906</td>\n",
       "      <td>0.053711</td>\n",
       "    </tr>\n",
       "    <tr>\n",
       "      <th>1</th>\n",
       "      <td>7</td>\n",
       "      <td>0.007812</td>\n",
       "      <td>0.005859</td>\n",
       "      <td>0.064453</td>\n",
       "      <td>0.009766</td>\n",
       "      <td>0.003906</td>\n",
       "      <td>0.013672</td>\n",
       "      <td>0.007812</td>\n",
       "      <td>0.0</td>\n",
       "      <td>0.033203</td>\n",
       "      <td>...</td>\n",
       "      <td>0.000000</td>\n",
       "      <td>0.000000</td>\n",
       "      <td>0.006836</td>\n",
       "      <td>0.001953</td>\n",
       "      <td>0.013672</td>\n",
       "      <td>0.0</td>\n",
       "      <td>0.0</td>\n",
       "      <td>0.000977</td>\n",
       "      <td>0.037109</td>\n",
       "      <td>0.044922</td>\n",
       "    </tr>\n",
       "    <tr>\n",
       "      <th>2</th>\n",
       "      <td>9</td>\n",
       "      <td>0.000000</td>\n",
       "      <td>0.000000</td>\n",
       "      <td>0.001953</td>\n",
       "      <td>0.021484</td>\n",
       "      <td>0.041016</td>\n",
       "      <td>0.000000</td>\n",
       "      <td>0.023438</td>\n",
       "      <td>0.0</td>\n",
       "      <td>0.011719</td>\n",
       "      <td>...</td>\n",
       "      <td>0.128910</td>\n",
       "      <td>0.000000</td>\n",
       "      <td>0.000977</td>\n",
       "      <td>0.000000</td>\n",
       "      <td>0.000000</td>\n",
       "      <td>0.0</td>\n",
       "      <td>0.0</td>\n",
       "      <td>0.015625</td>\n",
       "      <td>0.000000</td>\n",
       "      <td>0.000000</td>\n",
       "    </tr>\n",
       "    <tr>\n",
       "      <th>3</th>\n",
       "      <td>12</td>\n",
       "      <td>0.000000</td>\n",
       "      <td>0.000000</td>\n",
       "      <td>0.009766</td>\n",
       "      <td>0.011719</td>\n",
       "      <td>0.017578</td>\n",
       "      <td>0.000000</td>\n",
       "      <td>0.003906</td>\n",
       "      <td>0.0</td>\n",
       "      <td>0.003906</td>\n",
       "      <td>...</td>\n",
       "      <td>0.012695</td>\n",
       "      <td>0.015625</td>\n",
       "      <td>0.002930</td>\n",
       "      <td>0.036133</td>\n",
       "      <td>0.013672</td>\n",
       "      <td>0.0</td>\n",
       "      <td>0.0</td>\n",
       "      <td>0.089844</td>\n",
       "      <td>0.000000</td>\n",
       "      <td>0.008789</td>\n",
       "    </tr>\n",
       "    <tr>\n",
       "      <th>4</th>\n",
       "      <td>13</td>\n",
       "      <td>0.001953</td>\n",
       "      <td>0.000000</td>\n",
       "      <td>0.015625</td>\n",
       "      <td>0.009766</td>\n",
       "      <td>0.039062</td>\n",
       "      <td>0.000000</td>\n",
       "      <td>0.009766</td>\n",
       "      <td>0.0</td>\n",
       "      <td>0.005859</td>\n",
       "      <td>...</td>\n",
       "      <td>0.000000</td>\n",
       "      <td>0.042969</td>\n",
       "      <td>0.016602</td>\n",
       "      <td>0.010742</td>\n",
       "      <td>0.041016</td>\n",
       "      <td>0.0</td>\n",
       "      <td>0.0</td>\n",
       "      <td>0.007812</td>\n",
       "      <td>0.009766</td>\n",
       "      <td>0.007812</td>\n",
       "    </tr>\n",
       "  </tbody>\n",
       "</table>\n",
       "<p>5 rows × 193 columns</p>\n",
       "</div>"
      ],
      "text/plain": [
       "   id   margin1   margin2   margin3   margin4   margin5   margin6   margin7  \\\n",
       "0   4  0.019531  0.009766  0.078125  0.011719  0.003906  0.015625  0.005859   \n",
       "1   7  0.007812  0.005859  0.064453  0.009766  0.003906  0.013672  0.007812   \n",
       "2   9  0.000000  0.000000  0.001953  0.021484  0.041016  0.000000  0.023438   \n",
       "3  12  0.000000  0.000000  0.009766  0.011719  0.017578  0.000000  0.003906   \n",
       "4  13  0.001953  0.000000  0.015625  0.009766  0.039062  0.000000  0.009766   \n",
       "\n",
       "   margin8   margin9  ...  texture55  texture56  texture57  texture58  \\\n",
       "0      0.0  0.005859  ...   0.006836   0.000000   0.015625   0.000977   \n",
       "1      0.0  0.033203  ...   0.000000   0.000000   0.006836   0.001953   \n",
       "2      0.0  0.011719  ...   0.128910   0.000000   0.000977   0.000000   \n",
       "3      0.0  0.003906  ...   0.012695   0.015625   0.002930   0.036133   \n",
       "4      0.0  0.005859  ...   0.000000   0.042969   0.016602   0.010742   \n",
       "\n",
       "   texture59  texture60  texture61  texture62  texture63  texture64  \n",
       "0   0.015625        0.0        0.0   0.000000   0.003906   0.053711  \n",
       "1   0.013672        0.0        0.0   0.000977   0.037109   0.044922  \n",
       "2   0.000000        0.0        0.0   0.015625   0.000000   0.000000  \n",
       "3   0.013672        0.0        0.0   0.089844   0.000000   0.008789  \n",
       "4   0.041016        0.0        0.0   0.007812   0.009766   0.007812  \n",
       "\n",
       "[5 rows x 193 columns]"
      ]
     },
     "execution_count": 8,
     "metadata": {},
     "output_type": "execute_result"
    }
   ],
   "source": [
    "test.head()"
   ]
  },
  {
   "cell_type": "code",
   "execution_count": 9,
   "metadata": {
    "execution": {
     "iopub.execute_input": "2020-10-30T09:39:34.756471Z",
     "iopub.status.busy": "2020-10-30T09:39:34.755653Z",
     "iopub.status.idle": "2020-10-30T09:39:34.759541Z",
     "shell.execute_reply": "2020-10-30T09:39:34.758888Z"
    },
    "papermill": {
     "duration": 0.041351,
     "end_time": "2020-10-30T09:39:34.759687",
     "exception": false,
     "start_time": "2020-10-30T09:39:34.718336",
     "status": "completed"
    },
    "tags": []
   },
   "outputs": [
    {
     "name": "stdout",
     "output_type": "stream",
     "text": [
      "<class 'pandas.core.frame.DataFrame'>\n",
      "RangeIndex: 594 entries, 0 to 593\n",
      "Columns: 193 entries, id to texture64\n",
      "dtypes: float64(192), int64(1)\n",
      "memory usage: 895.8 KB\n"
     ]
    }
   ],
   "source": [
    "test.info()"
   ]
  },
  {
   "cell_type": "markdown",
   "metadata": {
    "papermill": {
     "duration": 0.022893,
     "end_time": "2020-10-30T09:39:34.807395",
     "exception": false,
     "start_time": "2020-10-30T09:39:34.784502",
     "status": "completed"
    },
    "tags": []
   },
   "source": [
    "**Target: classify 594 test samples into 99 species**"
   ]
  },
  {
   "cell_type": "markdown",
   "metadata": {
    "papermill": {
     "duration": 0.022999,
     "end_time": "2020-10-30T09:39:34.853588",
     "exception": false,
     "start_time": "2020-10-30T09:39:34.830589",
     "status": "completed"
    },
    "tags": []
   },
   "source": [
    "**Preprocess data**"
   ]
  },
  {
   "cell_type": "markdown",
   "metadata": {
    "papermill": {
     "duration": 0.022833,
     "end_time": "2020-10-30T09:39:34.900609",
     "exception": false,
     "start_time": "2020-10-30T09:39:34.877776",
     "status": "completed"
    },
    "tags": []
   },
   "source": [
    "**1. Label encoder**"
   ]
  },
  {
   "cell_type": "code",
   "execution_count": 10,
   "metadata": {
    "execution": {
     "iopub.execute_input": "2020-10-30T09:39:34.952351Z",
     "iopub.status.busy": "2020-10-30T09:39:34.951386Z",
     "iopub.status.idle": "2020-10-30T09:39:34.953836Z",
     "shell.execute_reply": "2020-10-30T09:39:34.954304Z"
    },
    "papermill": {
     "duration": 0.030703,
     "end_time": "2020-10-30T09:39:34.954451",
     "exception": false,
     "start_time": "2020-10-30T09:39:34.923748",
     "status": "completed"
    },
    "tags": []
   },
   "outputs": [],
   "source": [
    "le = LabelEncoder().fit(train['species'])"
   ]
  },
  {
   "cell_type": "markdown",
   "metadata": {
    "papermill": {
     "duration": 0.023149,
     "end_time": "2020-10-30T09:39:35.000914",
     "exception": false,
     "start_time": "2020-10-30T09:39:34.977765",
     "status": "completed"
    },
    "tags": []
   },
   "source": [
    "**encode species in training set**"
   ]
  },
  {
   "cell_type": "code",
   "execution_count": 11,
   "metadata": {
    "execution": {
     "iopub.execute_input": "2020-10-30T09:39:35.052948Z",
     "iopub.status.busy": "2020-10-30T09:39:35.052348Z",
     "iopub.status.idle": "2020-10-30T09:39:35.055027Z",
     "shell.execute_reply": "2020-10-30T09:39:35.054419Z"
    },
    "papermill": {
     "duration": 0.031048,
     "end_time": "2020-10-30T09:39:35.055136",
     "exception": false,
     "start_time": "2020-10-30T09:39:35.024088",
     "status": "completed"
    },
    "tags": []
   },
   "outputs": [],
   "source": [
    "train['label'] = le.transform(train['species'])"
   ]
  },
  {
   "cell_type": "markdown",
   "metadata": {
    "papermill": {
     "duration": 0.023531,
     "end_time": "2020-10-30T09:39:35.105506",
     "exception": false,
     "start_time": "2020-10-30T09:39:35.081975",
     "status": "completed"
    },
    "tags": []
   },
   "source": [
    "**drop id & species columns. seperate labels in training set**"
   ]
  },
  {
   "cell_type": "code",
   "execution_count": 12,
   "metadata": {
    "execution": {
     "iopub.execute_input": "2020-10-30T09:39:35.160790Z",
     "iopub.status.busy": "2020-10-30T09:39:35.160013Z",
     "iopub.status.idle": "2020-10-30T09:39:35.162805Z",
     "shell.execute_reply": "2020-10-30T09:39:35.162298Z"
    },
    "papermill": {
     "duration": 0.033784,
     "end_time": "2020-10-30T09:39:35.162913",
     "exception": false,
     "start_time": "2020-10-30T09:39:35.129129",
     "status": "completed"
    },
    "tags": []
   },
   "outputs": [],
   "source": [
    "labels = train['label']\n",
    "train_df = train.drop(columns=['id','species','label'])"
   ]
  },
  {
   "cell_type": "markdown",
   "metadata": {
    "papermill": {
     "duration": 0.023136,
     "end_time": "2020-10-30T09:39:35.209549",
     "exception": false,
     "start_time": "2020-10-30T09:39:35.186413",
     "status": "completed"
    },
    "tags": []
   },
   "source": [
    "**2. Feature scaling**"
   ]
  },
  {
   "cell_type": "code",
   "execution_count": 13,
   "metadata": {
    "execution": {
     "iopub.execute_input": "2020-10-30T09:39:35.264593Z",
     "iopub.status.busy": "2020-10-30T09:39:35.263907Z",
     "iopub.status.idle": "2020-10-30T09:39:35.275473Z",
     "shell.execute_reply": "2020-10-30T09:39:35.274856Z"
    },
    "papermill": {
     "duration": 0.042713,
     "end_time": "2020-10-30T09:39:35.275588",
     "exception": false,
     "start_time": "2020-10-30T09:39:35.232875",
     "status": "completed"
    },
    "tags": []
   },
   "outputs": [],
   "source": [
    "from sklearn.preprocessing import StandardScaler\n",
    "\n",
    "scaler = StandardScaler().fit(train_df)\n",
    "train_scale = pd.DataFrame(scaler.transform(train_df))"
   ]
  },
  {
   "cell_type": "markdown",
   "metadata": {
    "papermill": {
     "duration": 0.023247,
     "end_time": "2020-10-30T09:39:35.322306",
     "exception": false,
     "start_time": "2020-10-30T09:39:35.299059",
     "status": "completed"
    },
    "tags": []
   },
   "source": [
    "**3. Split train - validation set**"
   ]
  },
  {
   "cell_type": "code",
   "execution_count": 14,
   "metadata": {
    "execution": {
     "iopub.execute_input": "2020-10-30T09:39:35.376377Z",
     "iopub.status.busy": "2020-10-30T09:39:35.375761Z",
     "iopub.status.idle": "2020-10-30T09:39:35.406738Z",
     "shell.execute_reply": "2020-10-30T09:39:35.406219Z"
    },
    "papermill": {
     "duration": 0.060946,
     "end_time": "2020-10-30T09:39:35.406855",
     "exception": false,
     "start_time": "2020-10-30T09:39:35.345909",
     "status": "completed"
    },
    "tags": []
   },
   "outputs": [],
   "source": [
    "sss = StratifiedShuffleSplit(n_splits=10, test_size=0.2, random_state=42)\n",
    "for train_index, val_index in sss.split(train_scale,  labels):\n",
    "    x_train, x_val = train_scale.iloc[train_index], train_scale.iloc[val_index]\n",
    "    y_train, y_val = labels.iloc[train_index], labels.iloc[val_index]"
   ]
  },
  {
   "cell_type": "code",
   "execution_count": 15,
   "metadata": {
    "execution": {
     "iopub.execute_input": "2020-10-30T09:39:35.460687Z",
     "iopub.status.busy": "2020-10-30T09:39:35.459873Z",
     "iopub.status.idle": "2020-10-30T09:39:35.462870Z",
     "shell.execute_reply": "2020-10-30T09:39:35.463394Z"
    },
    "papermill": {
     "duration": 0.031914,
     "end_time": "2020-10-30T09:39:35.463531",
     "exception": false,
     "start_time": "2020-10-30T09:39:35.431617",
     "status": "completed"
    },
    "tags": []
   },
   "outputs": [
    {
     "name": "stdout",
     "output_type": "stream",
     "text": [
      "(792, 192) (792,)\n",
      "(198, 192) (198,)\n"
     ]
    }
   ],
   "source": [
    "print(x_train.shape,y_train.shape)\n",
    "print(x_val.shape, y_val.shape)"
   ]
  },
  {
   "cell_type": "code",
   "execution_count": 16,
   "metadata": {
    "execution": {
     "iopub.execute_input": "2020-10-30T09:39:35.519176Z",
     "iopub.status.busy": "2020-10-30T09:39:35.518364Z",
     "iopub.status.idle": "2020-10-30T09:39:35.522691Z",
     "shell.execute_reply": "2020-10-30T09:39:35.522157Z"
    },
    "papermill": {
     "duration": 0.035116,
     "end_time": "2020-10-30T09:39:35.522807",
     "exception": false,
     "start_time": "2020-10-30T09:39:35.487691",
     "status": "completed"
    },
    "tags": []
   },
   "outputs": [
    {
     "data": {
      "text/plain": [
       "98    8\n",
       "24    8\n",
       "26    8\n",
       "27    8\n",
       "28    8\n",
       "     ..\n",
       "68    8\n",
       "69    8\n",
       "70    8\n",
       "71    8\n",
       "0     8\n",
       "Name: label, Length: 99, dtype: int64"
      ]
     },
     "execution_count": 16,
     "metadata": {},
     "output_type": "execute_result"
    }
   ],
   "source": [
    "y_train.value_counts()"
   ]
  },
  {
   "cell_type": "markdown",
   "metadata": {
    "papermill": {
     "duration": 0.024378,
     "end_time": "2020-10-30T09:39:35.572033",
     "exception": false,
     "start_time": "2020-10-30T09:39:35.547655",
     "status": "completed"
    },
    "tags": []
   },
   "source": [
    "**each class has 8 samples in training set**"
   ]
  },
  {
   "cell_type": "markdown",
   "metadata": {
    "papermill": {
     "duration": 0.024176,
     "end_time": "2020-10-30T09:39:35.620998",
     "exception": false,
     "start_time": "2020-10-30T09:39:35.596822",
     "status": "completed"
    },
    "tags": []
   },
   "source": [
    "**Save test set id & features with scaling**"
   ]
  },
  {
   "cell_type": "code",
   "execution_count": 17,
   "metadata": {
    "execution": {
     "iopub.execute_input": "2020-10-30T09:39:35.680528Z",
     "iopub.status.busy": "2020-10-30T09:39:35.679707Z",
     "iopub.status.idle": "2020-10-30T09:39:35.683060Z",
     "shell.execute_reply": "2020-10-30T09:39:35.682567Z"
    },
    "papermill": {
     "duration": 0.037012,
     "end_time": "2020-10-30T09:39:35.683163",
     "exception": false,
     "start_time": "2020-10-30T09:39:35.646151",
     "status": "completed"
    },
    "tags": []
   },
   "outputs": [],
   "source": [
    "test_id = test['id']\n",
    "test_features = test.drop('id', axis=1)\n",
    "test_features_scale = scaler.transform(test_features)"
   ]
  },
  {
   "cell_type": "markdown",
   "metadata": {
    "papermill": {
     "duration": 0.02432,
     "end_time": "2020-10-30T09:39:35.732321",
     "exception": false,
     "start_time": "2020-10-30T09:39:35.708001",
     "status": "completed"
    },
    "tags": []
   },
   "source": [
    "**Model selection, model training & fine tuning**"
   ]
  },
  {
   "cell_type": "markdown",
   "metadata": {
    "papermill": {
     "duration": 0.0241,
     "end_time": "2020-10-30T09:39:35.780822",
     "exception": false,
     "start_time": "2020-10-30T09:39:35.756722",
     "status": "completed"
    },
    "tags": []
   },
   "source": [
    "**Three classifiers are considered in this notebook: Random forest classifier, Support vector machine classifier and KNeighbors**\n",
    "**classifier.**\n",
    "\n",
    "**GridSearchCV is used to fine-tune some hyperparameters**"
   ]
  },
  {
   "cell_type": "code",
   "execution_count": 18,
   "metadata": {
    "execution": {
     "iopub.execute_input": "2020-10-30T09:39:35.837454Z",
     "iopub.status.busy": "2020-10-30T09:39:35.836675Z",
     "iopub.status.idle": "2020-10-30T09:39:35.839542Z",
     "shell.execute_reply": "2020-10-30T09:39:35.839007Z"
    },
    "papermill": {
     "duration": 0.034365,
     "end_time": "2020-10-30T09:39:35.839652",
     "exception": false,
     "start_time": "2020-10-30T09:39:35.805287",
     "status": "completed"
    },
    "tags": []
   },
   "outputs": [],
   "source": [
    "cv_sets = ShuffleSplit(n_splits=10,test_size=0.20,random_state=42)\n",
    "classifiers = [RandomForestClassifier(), SVC(), KNeighborsClassifier()]\n",
    "params = [{'n_estimators' : [3,10,30], 'max_features':[2,4,6,8]},\n",
    "          {'kernel':('linear','poly','sigmoid','rbf'),'C':[0.01,0.05,0.025,0.07,0.09,1.0], 'gamma':['scale'], 'probability':[True]},\n",
    "          {'n_neighbors': [3,5,7,9]}]"
   ]
  },
  {
   "cell_type": "code",
   "execution_count": 19,
   "metadata": {
    "execution": {
     "iopub.execute_input": "2020-10-30T09:39:35.903358Z",
     "iopub.status.busy": "2020-10-30T09:39:35.902694Z",
     "iopub.status.idle": "2020-10-30T09:45:37.593002Z",
     "shell.execute_reply": "2020-10-30T09:45:37.592289Z"
    },
    "papermill": {
     "duration": 361.728363,
     "end_time": "2020-10-30T09:45:37.593130",
     "exception": false,
     "start_time": "2020-10-30T09:39:35.864767",
     "status": "completed"
    },
    "tags": []
   },
   "outputs": [],
   "source": [
    "best_estimators = []\n",
    "for classifier, param in zip(classifiers, params):\n",
    "    grid = GridSearchCV(classifier,param,cv=cv_sets)\n",
    "    grid = grid.fit(x_train,y_train)\n",
    "    best_estimators.append(grid.best_estimator_)"
   ]
  },
  {
   "cell_type": "code",
   "execution_count": 20,
   "metadata": {
    "execution": {
     "iopub.execute_input": "2020-10-30T09:45:37.649488Z",
     "iopub.status.busy": "2020-10-30T09:45:37.648755Z",
     "iopub.status.idle": "2020-10-30T09:45:37.655533Z",
     "shell.execute_reply": "2020-10-30T09:45:37.655023Z"
    },
    "papermill": {
     "duration": 0.036636,
     "end_time": "2020-10-30T09:45:37.655648",
     "exception": false,
     "start_time": "2020-10-30T09:45:37.619012",
     "status": "completed"
    },
    "tags": []
   },
   "outputs": [
    {
     "data": {
      "text/plain": [
       "[RandomForestClassifier(max_features=8, n_estimators=30),\n",
       " SVC(C=0.025, kernel='linear', probability=True),\n",
       " KNeighborsClassifier(n_neighbors=3)]"
      ]
     },
     "execution_count": 20,
     "metadata": {},
     "output_type": "execute_result"
    }
   ],
   "source": [
    "best_estimators"
   ]
  },
  {
   "cell_type": "markdown",
   "metadata": {
    "papermill": {
     "duration": 0.02489,
     "end_time": "2020-10-30T09:45:37.706710",
     "exception": false,
     "start_time": "2020-10-30T09:45:37.681820",
     "status": "completed"
    },
    "tags": []
   },
   "source": [
    "**Deploy models on validation set & choose the best one**"
   ]
  },
  {
   "cell_type": "code",
   "execution_count": 21,
   "metadata": {
    "execution": {
     "iopub.execute_input": "2020-10-30T09:45:37.769170Z",
     "iopub.status.busy": "2020-10-30T09:45:37.768501Z",
     "iopub.status.idle": "2020-10-30T09:45:41.308884Z",
     "shell.execute_reply": "2020-10-30T09:45:41.308167Z"
    },
    "papermill": {
     "duration": 3.577033,
     "end_time": "2020-10-30T09:45:41.309027",
     "exception": false,
     "start_time": "2020-10-30T09:45:37.731994",
     "status": "completed"
    },
    "tags": []
   },
   "outputs": [
    {
     "name": "stdout",
     "output_type": "stream",
     "text": [
      "==============================\n",
      "RandomForestClassifier\n",
      "****Results****\n",
      "**Training set**\n",
      "Accuracy: 100.0000%\n",
      "Log Loss: 0.2379167513856075\n",
      "**Validation set**\n",
      "Accuracy: 96.9697%\n",
      "Log Loss: 0.7918659059436718\n",
      "==============================\n",
      "SVC\n",
      "****Results****\n",
      "**Training set**\n",
      "Accuracy: 100.0000%\n",
      "Log Loss: 2.1809267600143\n",
      "**Validation set**\n",
      "Accuracy: 99.4949%\n",
      "Log Loss: 2.2941920307396058\n",
      "==============================\n",
      "KNeighborsClassifier\n",
      "****Results****\n",
      "**Training set**\n",
      "Accuracy: 98.2323%\n",
      "Log Loss: 0.041433802638993475\n",
      "**Validation set**\n",
      "Accuracy: 98.4848%\n",
      "Log Loss: 0.0412192836531407\n",
      "==============================\n"
     ]
    }
   ],
   "source": [
    "for estimator in best_estimators:\n",
    "    estimator.fit(x_train, y_train)\n",
    "    name = estimator.__class__.__name__\n",
    "    \n",
    "    print(\"=\"*30)\n",
    "    print(name)\n",
    "    \n",
    "    print('****Results****')\n",
    "    print('**Training set**')\n",
    "    train_predictions = estimator.predict(x_train)\n",
    "    acc = accuracy_score(y_train, train_predictions)\n",
    "    print(\"Accuracy: {:.4%}\".format(acc))\n",
    "    train_predictions = estimator.predict_proba(x_train)\n",
    "    ll = log_loss(y_train, train_predictions)\n",
    "    print(\"Log Loss: {}\".format(ll))\n",
    "    \n",
    "    print('**Validation set**')\n",
    "    train_predictions = estimator.predict(x_val)\n",
    "    acc = accuracy_score(y_val, train_predictions)\n",
    "    print(\"Accuracy: {:.4%}\".format(acc))\n",
    "    train_predictions = estimator.predict_proba(x_val)\n",
    "    ll = log_loss(y_val, train_predictions)\n",
    "    print(\"Log Loss: {}\".format(ll))\n",
    "    \n",
    "print(\"=\"*30)"
   ]
  },
  {
   "cell_type": "markdown",
   "metadata": {
    "papermill": {
     "duration": 0.027158,
     "end_time": "2020-10-30T09:45:41.364325",
     "exception": false,
     "start_time": "2020-10-30T09:45:41.337167",
     "status": "completed"
    },
    "tags": []
   },
   "source": [
    "**Deploy the chosen model on test set**"
   ]
  },
  {
   "cell_type": "code",
   "execution_count": 22,
   "metadata": {
    "execution": {
     "iopub.execute_input": "2020-10-30T09:45:41.428095Z",
     "iopub.status.busy": "2020-10-30T09:45:41.427394Z",
     "iopub.status.idle": "2020-10-30T09:45:41.593611Z",
     "shell.execute_reply": "2020-10-30T09:45:41.592866Z"
    },
    "papermill": {
     "duration": 0.199077,
     "end_time": "2020-10-30T09:45:41.593737",
     "exception": false,
     "start_time": "2020-10-30T09:45:41.394660",
     "status": "completed"
    },
    "tags": []
   },
   "outputs": [],
   "source": [
    "pred = best_estimators[2].predict_proba(test_features_scale)"
   ]
  },
  {
   "cell_type": "code",
   "execution_count": 23,
   "metadata": {
    "execution": {
     "iopub.execute_input": "2020-10-30T09:45:41.654636Z",
     "iopub.status.busy": "2020-10-30T09:45:41.653709Z",
     "iopub.status.idle": "2020-10-30T09:45:41.657020Z",
     "shell.execute_reply": "2020-10-30T09:45:41.657518Z"
    },
    "papermill": {
     "duration": 0.036229,
     "end_time": "2020-10-30T09:45:41.657656",
     "exception": false,
     "start_time": "2020-10-30T09:45:41.621427",
     "status": "completed"
    },
    "tags": []
   },
   "outputs": [
    {
     "data": {
      "text/plain": [
       "array([[0., 0., 0., ..., 0., 0., 0.],\n",
       "       [0., 0., 0., ..., 0., 0., 0.],\n",
       "       [0., 1., 0., ..., 0., 0., 0.],\n",
       "       ...,\n",
       "       [0., 0., 0., ..., 0., 0., 0.],\n",
       "       [0., 0., 0., ..., 0., 0., 0.],\n",
       "       [0., 0., 0., ..., 0., 0., 0.]])"
      ]
     },
     "execution_count": 23,
     "metadata": {},
     "output_type": "execute_result"
    }
   ],
   "source": [
    "pred"
   ]
  },
  {
   "cell_type": "code",
   "execution_count": null,
   "metadata": {
    "papermill": {
     "duration": 0.027426,
     "end_time": "2020-10-30T09:45:41.713097",
     "exception": false,
     "start_time": "2020-10-30T09:45:41.685671",
     "status": "completed"
    },
    "tags": []
   },
   "outputs": [],
   "source": []
  }
 ],
 "metadata": {
  "kernelspec": {
   "display_name": "Python 3",
   "language": "python",
   "name": "python3"
  },
  "language_info": {
   "codemirror_mode": {
    "name": "ipython",
    "version": 3
   },
   "file_extension": ".py",
   "mimetype": "text/x-python",
   "name": "python",
   "nbconvert_exporter": "python",
   "pygments_lexer": "ipython3",
   "version": "3.7.6"
  },
  "papermill": {
   "duration": 373.28151,
   "end_time": "2020-10-30T09:45:41.848020",
   "environment_variables": {},
   "exception": null,
   "input_path": "__notebook__.ipynb",
   "output_path": "__notebook__.ipynb",
   "parameters": {},
   "start_time": "2020-10-30T09:39:28.566510",
   "version": "2.1.0"
  }
 },
 "nbformat": 4,
 "nbformat_minor": 4
}
