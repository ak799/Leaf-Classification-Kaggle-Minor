{
 "cells": [
  {
   "cell_type": "markdown",
   "metadata": {},
   "source": [
    "**Importing Libraries**"
   ]
  },
  {
   "cell_type": "code",
   "execution_count": 1,
   "metadata": {},
   "outputs": [],
   "source": [
    "import pandas as pd\n",
    "import numpy as np"
   ]
  },
  {
   "cell_type": "markdown",
   "metadata": {},
   "source": [
    "For the implementation of CNN, we have used keras library on top of tensor flow."
   ]
  },
  {
   "cell_type": "code",
   "execution_count": 2,
   "metadata": {},
   "outputs": [],
   "source": [
    "import keras"
   ]
  },
  {
   "cell_type": "markdown",
   "metadata": {},
   "source": [
    "**Image Preprocessing**\n",
    "\n",
    "Loading the images converting them to array and rotating the images and appending them to the same array so as to bring uniformity in the data, i.e. trying to eliminate the problem of different orientations etc.\n"
   ]
  },
  {
   "cell_type": "code",
   "execution_count": 3,
   "metadata": {},
   "outputs": [
    {
     "name": "stdout",
     "output_type": "stream",
     "text": [
      "1.0\n"
     ]
    },
    {
     "data": {
      "image/png": "[encoded data removed]",
      "text/plain": [
       "<Figure size 432x288 with 1 Axes>"
      ]
     },
     "metadata": {
      "needs_background": "light"
     },
     "output_type": "display_data"
    }
   ],
   "source": [
    "from keras.preprocessing import image\n",
    "from matplotlib import pyplot as plt\n",
    "path = \"code/images/\"\n",
    "images_arr = []\n",
    "\n",
    "\n",
    "for i in range(1584):\n",
    "    img_path = path + str(i+1) + '.jpg'\n",
    "    \n",
    "    img = image.load_img(img_path, color_mode='grayscale', target_size=(50,50))\n",
    "    img_arr = image.img_to_array(img)\n",
    "    tmp = np.zeros(img_arr.shape)\n",
    "    tmp += img_arr\n",
    "    theta = 22.5\n",
    "    while theta < 360:\n",
    "        img_arr = image.apply_affine_transform(img_arr, theta=theta)\n",
    "        tmp += img_arr\n",
    "        theta += 22.5\n",
    "    tmp = tmp.astype('float32')\n",
    "    tmp /= (360/22.5)\n",
    "    images_arr.append(tmp/255)\n",
    "    \n",
    "plt.imshow(image.array_to_img(images_arr[8]))\n",
    "print(images_arr[8].max())"
   ]
  },
  {
   "cell_type": "markdown",
   "metadata": {},
   "source": [
    "**Numbering the species name**"
   ]
  },
  {
   "cell_type": "markdown",
   "metadata": {},
   "source": [
    "Reading the csv file using pandas framework and assigning unique ids to the names of the species. The dataset consists of 64 x 3 features , along with the species name, id (corresponding to the image) and index"
   ]
  },
  {
   "cell_type": "code",
   "execution_count": 4,
   "metadata": {},
   "outputs": [
    {
     "name": "stdout",
     "output_type": "stream",
     "text": [
      "   id                species   margin1   margin2   margin3   margin4  \\\n",
      "0   1            Acer_Opalus  0.007812  0.023438  0.023438  0.003906   \n",
      "1   2  Pterocarya_Stenoptera  0.005859  0.000000  0.031250  0.015625   \n",
      "2   3   Quercus_Hartwissiana  0.005859  0.009766  0.019531  0.007812   \n",
      "3   5        Tilia_Tomentosa  0.000000  0.003906  0.023438  0.005859   \n",
      "4   6     Quercus_Variabilis  0.005859  0.003906  0.048828  0.009766   \n",
      "\n",
      "    margin5   margin6   margin7  margin8  ...  texture55  texture56  \\\n",
      "0  0.011719  0.009766  0.027344      0.0  ...   0.007812   0.000000   \n",
      "1  0.025391  0.001953  0.019531      0.0  ...   0.000977   0.000000   \n",
      "2  0.003906  0.005859  0.068359      0.0  ...   0.154300   0.000000   \n",
      "3  0.021484  0.019531  0.023438      0.0  ...   0.000000   0.000977   \n",
      "4  0.013672  0.015625  0.005859      0.0  ...   0.096680   0.000000   \n",
      "\n",
      "   texture57  texture58  texture59  texture60  texture61  texture62  \\\n",
      "0   0.002930   0.002930   0.035156        0.0        0.0   0.004883   \n",
      "1   0.000000   0.000977   0.023438        0.0        0.0   0.000977   \n",
      "2   0.005859   0.000977   0.007812        0.0        0.0   0.000000   \n",
      "3   0.000000   0.000000   0.020508        0.0        0.0   0.017578   \n",
      "4   0.021484   0.000000   0.000000        0.0        0.0   0.000000   \n",
      "\n",
      "   texture63  texture64  \n",
      "0   0.000000   0.025391  \n",
      "1   0.039062   0.022461  \n",
      "2   0.020508   0.002930  \n",
      "3   0.000000   0.047852  \n",
      "4   0.000000   0.031250  \n",
      "\n",
      "[5 rows x 194 columns]\n",
      "99\n"
     ]
    }
   ],
   "source": [
    "data = pd.read_csv('./train.csv')\n",
    "print(data.head())\n",
    "idx = 0\n",
    "name2id = {}\n",
    "for sp in data.species:\n",
    "    if sp not in name2id:\n",
    "        name2id[sp] = idx\n",
    "        idx += 1\n",
    "\n",
    "print(len(name2id))"
   ]
  },
  {
   "cell_type": "markdown",
   "metadata": {},
   "source": [
    "real_data array consists of the features of the dataset\n",
    "\n",
    "real_label array consists of the label of the species\n",
    "\n",
    "real_id consists of the id of the image\n",
    "\n",
    "Now everything is combined to form one single array of x_train and y_train for training purposes\n",
    "\n",
    "x_train_img consists of image training data (3-d array of images)\n",
    "\n",
    "x_train consists of 64x3 features read from the csv file\n",
    "\n",
    "y_train consists of correct output for the image\n",
    "\n",
    "Also converting the y_train and y_test to one hot encoded form for softmax_loss calculation purposes"
   ]
  },
  {
   "cell_type": "code",
   "execution_count": 5,
   "metadata": {},
   "outputs": [],
   "source": [
    "head = []\n",
    "head += ['margin'+str(i+1) for i in range(64)]\n",
    "head += ['shape'+str(i+1) for i in range(64)]\n",
    "head += ['texture'+str(i+1) for i in range(64)]\n",
    "\n",
    "\n",
    "real_data = [[] for i in range(990)]\n",
    "real_label = []\n",
    "real_id = []\n",
    "for i in data.id:\n",
    "    real_id.append(i)\n",
    "for h in head:\n",
    "    for i , val in enumerate(data[h]):\n",
    "        real_data[i].append(val)\n",
    "\n",
    "for label in data.species:\n",
    "    real_label.append(name2id[label])\n",
    "\n",
    "assert(len(real_data) == len(real_label))"
   ]
  },
  {
   "cell_type": "markdown",
   "metadata": {},
   "source": [
    "**Splitting into train and test data set**"
   ]
  },
  {
   "cell_type": "code",
   "execution_count": 6,
   "metadata": {},
   "outputs": [],
   "source": [
    "x_train, y_train, x_test, y_test = [], [], [], []\n",
    "x_train_img, x_test_img = [], []\n",
    "\n",
    "for i in range(len(real_data)):\n",
    "    if i % 5 == 0:\n",
    "        x_test_img.append(images_arr[ real_id[i] - 1 ])\n",
    "        x_test.append(real_data[i])\n",
    "        y_test.append(real_label[i])\n",
    "        continue\n",
    "    x_train.append(real_data[i])\n",
    "    x_train_img.append(images_arr[ real_id[i] - 1 ])\n",
    "    y_train.append(real_label[i])\n",
    "\n",
    "x_train = np.array(x_train)\n",
    "x_train_img = np.array(x_train_img)\n",
    "x_test = np.array(x_test)\n",
    "x_test_img = np.array(x_test_img)\n",
    "y_test = np.array(y_test)\n",
    "y_train = np.array(y_train)\n",
    "\n",
    "from keras.utils import to_categorical\n",
    "\n",
    "y_train = to_categorical(y_train).astype('float32')\n",
    "y_test = to_categorical(y_test).astype('float32')"
   ]
  },
  {
   "cell_type": "markdown",
   "metadata": {},
   "source": [
    "**Printing the shape of the train and test dataset**"
   ]
  },
  {
   "cell_type": "code",
   "execution_count": 7,
   "metadata": {},
   "outputs": [
    {
     "name": "stdout",
     "output_type": "stream",
     "text": [
      "(792, 192)\n",
      "(198, 192)\n",
      "(198, 99)\n",
      "(792, 99)\n"
     ]
    }
   ],
   "source": [
    "print(x_train.shape)\n",
    "print(x_test.shape)\n",
    "print(y_test.shape)\n",
    "print(y_train.shape)"
   ]
  },
  {
   "cell_type": "markdown",
   "metadata": {},
   "source": [
    "**Defining the Neural Network**"
   ]
  },
  {
   "cell_type": "markdown",
   "metadata": {},
   "source": [
    "The neural network architecture consists of two sets of layers, first the set of convolution layers and maxpooling layers which we have concatenated with the input feature layers and connected further to dense layers. Then we applied the convolution layer model"
   ]
  },
  {
   "cell_type": "code",
   "execution_count": 8,
   "metadata": {},
   "outputs": [
    {
     "name": "stdout",
     "output_type": "stream",
     "text": [
      "192\n",
      "Model: \"functional_1\"\n",
      "__________________________________________________________________________________________________\n",
      "Layer (type)                    Output Shape         Param #     Connected to                     \n",
      "==================================================================================================\n",
      "input_img (InputLayer)          [(None, 50, 50, 1)]  0                                            \n",
      "__________________________________________________________________________________________________\n",
      "conv2d (Conv2D)                 (None, 48, 48, 16)   160         input_img[0][0]                  \n",
      "__________________________________________________________________________________________________\n",
      "max_pooling2d (MaxPooling2D)    (None, 24, 48, 16)   0           conv2d[0][0]                     \n",
      "__________________________________________________________________________________________________\n",
      "max_pooling2d_1 (MaxPooling2D)  (None, 24, 24, 16)   0           max_pooling2d[0][0]              \n",
      "__________________________________________________________________________________________________\n",
      "conv2d_1 (Conv2D)               (None, 22, 22, 32)   4640        max_pooling2d_1[0][0]            \n",
      "__________________________________________________________________________________________________\n",
      "max_pooling2d_2 (MaxPooling2D)  (None, 11, 22, 32)   0           conv2d_1[0][0]                   \n",
      "__________________________________________________________________________________________________\n",
      "max_pooling2d_3 (MaxPooling2D)  (None, 11, 11, 32)   0           max_pooling2d_2[0][0]            \n",
      "__________________________________________________________________________________________________\n",
      "conv2d_2 (Conv2D)               (None, 9, 9, 32)     9248        max_pooling2d_3[0][0]            \n",
      "__________________________________________________________________________________________________\n",
      "input_feat (InputLayer)         [(None, 192)]        0                                            \n",
      "__________________________________________________________________________________________________\n",
      "flatten (Flatten)               (None, 2592)         0           conv2d_2[0][0]                   \n",
      "__________________________________________________________________________________________________\n",
      "concatenate (Concatenate)       (None, 2784)         0           input_feat[0][0]                 \n",
      "                                                                 flatten[0][0]                    \n",
      "__________________________________________________________________________________________________\n",
      "dense (Dense)                   (None, 1500)         4177500     concatenate[0][0]                \n",
      "__________________________________________________________________________________________________\n",
      "batch_normalization (BatchNorma (None, 1500)         6000        dense[0][0]                      \n",
      "__________________________________________________________________________________________________\n",
      "dense_1 (Dense)                 (None, 1000)         1501000     batch_normalization[0][0]        \n",
      "__________________________________________________________________________________________________\n",
      "batch_normalization_1 (BatchNor (None, 1000)         4000        dense_1[0][0]                    \n",
      "__________________________________________________________________________________________________\n",
      "dense_2 (Dense)                 (None, 500)          500500      batch_normalization_1[0][0]      \n",
      "__________________________________________________________________________________________________\n",
      "batch_normalization_2 (BatchNor (None, 500)          2000        dense_2[0][0]                    \n",
      "__________________________________________________________________________________________________\n",
      "dense_3 (Dense)                 (None, 115)          57615       batch_normalization_2[0][0]      \n",
      "__________________________________________________________________________________________________\n",
      "batch_normalization_3 (BatchNor (None, 115)          460         dense_3[0][0]                    \n",
      "__________________________________________________________________________________________________\n",
      "output (Dense)                  (None, 99)           11484       batch_normalization_3[0][0]      \n",
      "==================================================================================================\n",
      "Total params: 6,274,607\n",
      "Trainable params: 6,268,377\n",
      "Non-trainable params: 6,230\n",
      "__________________________________________________________________________________________________\n"
     ]
    }
   ],
   "source": [
    "input_dim = len(x_train[0])\n",
    "print(input_dim)\n",
    "\n",
    "\n",
    "\n",
    "from keras.models import Model\n",
    "from keras.layers import Input\n",
    "from keras.layers import Dense, BatchNormalization\n",
    "from keras.layers import Flatten\n",
    "from keras.layers.convolutional import Conv2D\n",
    "from keras.layers.pooling import MaxPooling2D\n",
    "from keras.layers.merge import concatenate\n",
    "\n",
    "inp_img = Input(shape=(50,50,1), name='input_img')\n",
    "c1 = Conv2D(16, kernel_size=3, activation='relu')(inp_img) # 48 x 48\n",
    "p1 = MaxPooling2D(pool_size=(2,1))(c1) # 24 x 48\n",
    "p1 = MaxPooling2D(pool_size=(1,2))(p1) # 24 x 24\n",
    "c2 = Conv2D(32, kernel_size=3, activation='relu')(p1) # 22 x 22\n",
    "p2 = MaxPooling2D(pool_size=(2,1))(c2) # 11 x 22\n",
    "p2 = MaxPooling2D(pool_size=(1,2))(p2) # 11 x 11\n",
    "c3 = Conv2D(32, kernel_size=3, activation='relu')(p2) # 9 x 9\n",
    "f1 = Flatten()(c3) # 64 x 9 x 9 x 16\n",
    "\n",
    "inp_feat = Input(shape=(input_dim, ), name='input_feat')\n",
    "x = concatenate([inp_feat, f1])\n",
    "d = Dense(1500, activation='relu')(x)\n",
    "d = BatchNormalization()(d)\n",
    "d = Dense(1000, activation='relu')(d)\n",
    "d = BatchNormalization()(d)\n",
    "d = Dense(500, activation='relu')(d)\n",
    "d = BatchNormalization()(d)\n",
    "d = Dense(115, activation='relu')(d)\n",
    "d = BatchNormalization()(d)\n",
    "out = Dense(99, activation='softmax', name='output')(d)\n",
    "\n",
    "model = Model(inputs=[inp_img, inp_feat], outputs=out)\n",
    "model.compile(loss='categorical_crossentropy', optimizer='adam', metrics=['accuracy'])\n",
    "\n",
    "\n",
    "model.summary()"
   ]
  },
  {
   "cell_type": "markdown",
   "metadata": {},
   "source": [
    "**Model Fitting**"
   ]
  },
  {
   "cell_type": "code",
   "execution_count": 9,
   "metadata": {},
   "outputs": [
    {
     "name": "stdout",
     "output_type": "stream",
     "text": [
      "Epoch 1/60\n",
      "16/16 [==============================] - 1s 76ms/step - loss: 4.0216 - accuracy: 0.1313 - val_loss: 4.6602 - val_accuracy: 0.0000e+00\n",
      "Epoch 2/60\n",
      "16/16 [==============================] - 1s 67ms/step - loss: 2.4514 - accuracy: 0.4672 - val_loss: 4.5937 - val_accuracy: 0.0202\n",
      "Epoch 3/60\n",
      "16/16 [==============================] - 1s 69ms/step - loss: 1.2697 - accuracy: 0.8169 - val_loss: 4.6271 - val_accuracy: 0.0202\n",
      "Epoch 4/60\n",
      "16/16 [==============================] - 1s 75ms/step - loss: 0.6086 - accuracy: 0.9343 - val_loss: 4.6404 - val_accuracy: 0.0202\n",
      "Epoch 5/60\n",
      "16/16 [==============================] - 1s 79ms/step - loss: 0.3047 - accuracy: 0.9811 - val_loss: 4.6483 - val_accuracy: 0.0202\n",
      "Epoch 6/60\n",
      "16/16 [==============================] - 1s 72ms/step - loss: 0.1736 - accuracy: 0.9912 - val_loss: 4.6763 - val_accuracy: 0.0202\n",
      "Epoch 7/60\n",
      "16/16 [==============================] - 1s 74ms/step - loss: 0.1022 - accuracy: 0.9937 - val_loss: 4.6960 - val_accuracy: 0.0202\n",
      "Epoch 8/60\n",
      "16/16 [==============================] - 1s 86ms/step - loss: 0.0675 - accuracy: 0.9987 - val_loss: 4.6970 - val_accuracy: 0.0202\n",
      "Epoch 9/60\n",
      "16/16 [==============================] - 1s 77ms/step - loss: 0.0458 - accuracy: 1.0000 - val_loss: 4.7049 - val_accuracy: 0.0202\n",
      "Epoch 10/60\n",
      "16/16 [==============================] - 1s 77ms/step - loss: 0.0376 - accuracy: 0.9987 - val_loss: 4.6939 - val_accuracy: 0.0455\n",
      "Epoch 11/60\n",
      "16/16 [==============================] - 1s 75ms/step - loss: 0.0301 - accuracy: 1.0000 - val_loss: 4.6904 - val_accuracy: 0.0455\n",
      "Epoch 12/60\n",
      "16/16 [==============================] - 1s 80ms/step - loss: 0.0243 - accuracy: 1.0000 - val_loss: 4.6865 - val_accuracy: 0.0455\n",
      "Epoch 13/60\n",
      "16/16 [==============================] - 1s 80ms/step - loss: 0.0214 - accuracy: 1.0000 - val_loss: 4.6694 - val_accuracy: 0.0455\n",
      "Epoch 14/60\n",
      "16/16 [==============================] - 1s 76ms/step - loss: 0.0171 - accuracy: 1.0000 - val_loss: 4.6405 - val_accuracy: 0.0455\n",
      "Epoch 15/60\n",
      "16/16 [==============================] - 1s 75ms/step - loss: 0.0152 - accuracy: 1.0000 - val_loss: 4.6002 - val_accuracy: 0.0455\n",
      "Epoch 16/60\n",
      "16/16 [==============================] - 1s 75ms/step - loss: 0.0138 - accuracy: 1.0000 - val_loss: 4.5619 - val_accuracy: 0.0455\n",
      "Epoch 17/60\n",
      "16/16 [==============================] - 1s 76ms/step - loss: 0.0117 - accuracy: 1.0000 - val_loss: 4.5179 - val_accuracy: 0.0505\n",
      "Epoch 18/60\n",
      "16/16 [==============================] - 1s 75ms/step - loss: 0.0117 - accuracy: 1.0000 - val_loss: 4.4545 - val_accuracy: 0.0758\n",
      "Epoch 19/60\n",
      "16/16 [==============================] - 1s 75ms/step - loss: 0.0101 - accuracy: 1.0000 - val_loss: 4.3814 - val_accuracy: 0.0909\n",
      "Epoch 20/60\n",
      "16/16 [==============================] - 1s 76ms/step - loss: 0.0096 - accuracy: 1.0000 - val_loss: 4.3058 - val_accuracy: 0.1414\n",
      "Epoch 21/60\n",
      "16/16 [==============================] - 1s 76ms/step - loss: 0.0094 - accuracy: 1.0000 - val_loss: 4.2351 - val_accuracy: 0.1566\n",
      "Epoch 22/60\n",
      "16/16 [==============================] - 1s 75ms/step - loss: 0.0085 - accuracy: 1.0000 - val_loss: 4.1092 - val_accuracy: 0.1818\n",
      "Epoch 23/60\n",
      "16/16 [==============================] - 1s 75ms/step - loss: 0.0078 - accuracy: 1.0000 - val_loss: 3.9824 - val_accuracy: 0.2071\n",
      "Epoch 24/60\n",
      "16/16 [==============================] - 1s 70ms/step - loss: 0.0075 - accuracy: 1.0000 - val_loss: 3.8312 - val_accuracy: 0.2525\n",
      "Epoch 25/60\n",
      "16/16 [==============================] - 1s 70ms/step - loss: 0.0075 - accuracy: 1.0000 - val_loss: 3.6656 - val_accuracy: 0.2828\n",
      "Epoch 26/60\n",
      "16/16 [==============================] - 1s 79ms/step - loss: 0.0070 - accuracy: 1.0000 - val_loss: 3.4893 - val_accuracy: 0.3030\n",
      "Epoch 27/60\n",
      "16/16 [==============================] - 1s 81ms/step - loss: 0.0063 - accuracy: 1.0000 - val_loss: 3.2457 - val_accuracy: 0.3232\n",
      "Epoch 28/60\n",
      "16/16 [==============================] - 1s 76ms/step - loss: 0.0056 - accuracy: 1.0000 - val_loss: 3.0682 - val_accuracy: 0.3687\n",
      "Epoch 29/60\n",
      "16/16 [==============================] - 1s 75ms/step - loss: 0.0052 - accuracy: 1.0000 - val_loss: 2.8647 - val_accuracy: 0.4040\n",
      "Epoch 30/60\n",
      "16/16 [==============================] - 1s 76ms/step - loss: 0.0058 - accuracy: 1.0000 - val_loss: 2.4149 - val_accuracy: 0.4949\n",
      "Epoch 31/60\n",
      "16/16 [==============================] - 1s 85ms/step - loss: 0.0053 - accuracy: 1.0000 - val_loss: 2.5665 - val_accuracy: 0.4495\n",
      "Epoch 32/60\n",
      "16/16 [==============================] - 1s 87ms/step - loss: 0.0049 - accuracy: 1.0000 - val_loss: 1.9155 - val_accuracy: 0.6010\n",
      "Epoch 33/60\n",
      "16/16 [==============================] - 1s 78ms/step - loss: 0.0050 - accuracy: 1.0000 - val_loss: 1.8394 - val_accuracy: 0.6414\n",
      "Epoch 34/60\n",
      "16/16 [==============================] - 1s 75ms/step - loss: 0.0044 - accuracy: 1.0000 - val_loss: 1.4095 - val_accuracy: 0.7424\n",
      "Epoch 35/60\n",
      "16/16 [==============================] - 1s 76ms/step - loss: 0.0042 - accuracy: 1.0000 - val_loss: 1.2376 - val_accuracy: 0.7929\n",
      "Epoch 36/60\n",
      "16/16 [==============================] - 1s 77ms/step - loss: 0.0039 - accuracy: 1.0000 - val_loss: 0.9886 - val_accuracy: 0.8586\n",
      "Epoch 37/60\n",
      "16/16 [==============================] - 1s 71ms/step - loss: 0.0036 - accuracy: 1.0000 - val_loss: 0.7932 - val_accuracy: 0.8838\n",
      "Epoch 38/60\n",
      "16/16 [==============================] - 1s 82ms/step - loss: 0.0038 - accuracy: 1.0000 - val_loss: 0.6184 - val_accuracy: 0.9040\n",
      "Epoch 39/60\n",
      "16/16 [==============================] - 1s 71ms/step - loss: 0.0036 - accuracy: 1.0000 - val_loss: 0.4999 - val_accuracy: 0.9293\n",
      "Epoch 40/60\n",
      "16/16 [==============================] - 1s 80ms/step - loss: 0.0035 - accuracy: 1.0000 - val_loss: 0.4184 - val_accuracy: 0.9343\n",
      "Epoch 41/60\n",
      "16/16 [==============================] - 1s 75ms/step - loss: 0.0032 - accuracy: 1.0000 - val_loss: 0.3394 - val_accuracy: 0.9596\n",
      "Epoch 42/60\n",
      "16/16 [==============================] - 1s 76ms/step - loss: 0.0031 - accuracy: 1.0000 - val_loss: 0.3157 - val_accuracy: 0.9495\n",
      "Epoch 43/60\n",
      "16/16 [==============================] - 1s 80ms/step - loss: 0.0030 - accuracy: 1.0000 - val_loss: 0.2405 - val_accuracy: 0.9646\n",
      "Epoch 44/60\n",
      "16/16 [==============================] - 1s 82ms/step - loss: 0.0032 - accuracy: 1.0000 - val_loss: 0.2160 - val_accuracy: 0.9596\n",
      "Epoch 45/60\n",
      "16/16 [==============================] - 1s 70ms/step - loss: 0.0030 - accuracy: 1.0000 - val_loss: 0.2018 - val_accuracy: 0.9646\n",
      "Epoch 46/60\n",
      "16/16 [==============================] - 1s 80ms/step - loss: 0.0029 - accuracy: 1.0000 - val_loss: 0.1787 - val_accuracy: 0.9697\n",
      "Epoch 47/60\n",
      "16/16 [==============================] - 1s 77ms/step - loss: 0.0028 - accuracy: 1.0000 - val_loss: 0.1706 - val_accuracy: 0.9596\n",
      "Epoch 48/60\n",
      "16/16 [==============================] - 1s 79ms/step - loss: 0.0027 - accuracy: 1.0000 - val_loss: 0.1595 - val_accuracy: 0.9646\n",
      "Epoch 49/60\n",
      "16/16 [==============================] - 1s 77ms/step - loss: 0.0025 - accuracy: 1.0000 - val_loss: 0.1718 - val_accuracy: 0.9596\n",
      "Epoch 50/60\n",
      "16/16 [==============================] - 1s 75ms/step - loss: 0.0025 - accuracy: 1.0000 - val_loss: 0.1463 - val_accuracy: 0.9646\n",
      "Epoch 51/60\n",
      "16/16 [==============================] - 1s 77ms/step - loss: 0.0024 - accuracy: 1.0000 - val_loss: 0.1764 - val_accuracy: 0.9596\n",
      "Epoch 52/60\n",
      "16/16 [==============================] - 1s 77ms/step - loss: 0.0023 - accuracy: 1.0000 - val_loss: 0.1389 - val_accuracy: 0.9747\n",
      "Epoch 53/60\n",
      "16/16 [==============================] - 1s 70ms/step - loss: 0.0023 - accuracy: 1.0000 - val_loss: 0.1354 - val_accuracy: 0.9596\n",
      "Epoch 54/60\n",
      "16/16 [==============================] - 1s 70ms/step - loss: 0.0022 - accuracy: 1.0000 - val_loss: 0.1266 - val_accuracy: 0.9697\n",
      "Epoch 55/60\n",
      "16/16 [==============================] - 1s 77ms/step - loss: 0.0022 - accuracy: 1.0000 - val_loss: 0.1322 - val_accuracy: 0.9747\n",
      "Epoch 56/60\n",
      "16/16 [==============================] - 1s 77ms/step - loss: 0.0022 - accuracy: 1.0000 - val_loss: 0.1321 - val_accuracy: 0.9697\n",
      "Epoch 57/60\n",
      "16/16 [==============================] - 1s 78ms/step - loss: 0.0020 - accuracy: 1.0000 - val_loss: 0.1304 - val_accuracy: 0.9697\n",
      "Epoch 58/60\n",
      "16/16 [==============================] - 1s 81ms/step - loss: 0.0019 - accuracy: 1.0000 - val_loss: 0.1424 - val_accuracy: 0.9545\n",
      "Epoch 59/60\n",
      "16/16 [==============================] - 1s 78ms/step - loss: 0.0019 - accuracy: 1.0000 - val_loss: 0.1286 - val_accuracy: 0.9697\n",
      "Epoch 60/60\n",
      "16/16 [==============================] - 1s 84ms/step - loss: 0.0019 - accuracy: 1.0000 - val_loss: 0.1161 - val_accuracy: 0.9697\n"
     ]
    },
    {
     "data": {
      "text/plain": [
       "<tensorflow.python.keras.callbacks.History at 0x7f48c861c6d0>"
      ]
     },
     "execution_count": 9,
     "metadata": {},
     "output_type": "execute_result"
    }
   ],
   "source": [
    "model.fit( {  'input_img' : x_train_img, 'input_feat'  : x_train}, \n",
    "              y_train, epochs = 60, batch_size=50, verbose = 1, \n",
    "              validation_data=({'input_img':x_test_img,\n",
    "              'input_feat':x_test}, y_test))\n"
   ]
  },
  {
   "cell_type": "markdown",
   "metadata": {},
   "source": [
    "**Printing the shape of model and test dataset**"
   ]
  },
  {
   "cell_type": "code",
   "execution_count": 10,
   "metadata": {},
   "outputs": [
    {
     "name": "stdout",
     "output_type": "stream",
     "text": [
      "(198, 192)\n",
      "(2, 99)\n"
     ]
    }
   ],
   "source": [
    "print(x_test.shape)\n",
    "inp = {'input_img' : np.array([x_test_img[0] , x_test_img[1]]), \n",
    "      'input_feat'  : np.array([x_test[0] , x_test[1] ]) }\n",
    "x = model.predict(inp)\n",
    "print(x.shape)"
   ]
  },
  {
   "cell_type": "code",
   "execution_count": null,
   "metadata": {},
   "outputs": [],
   "source": []
  }
 ],
 "metadata": {
  "kernelspec": {
   "display_name": "leaf",
   "language": "python",
   "name": "leaf"
  },
  "language_info": {
   "codemirror_mode": {
    "name": "ipython",
    "version": 3
   },
   "file_extension": ".py",
   "mimetype": "text/x-python",
   "name": "python",
   "nbconvert_exporter": "python",
   "pygments_lexer": "ipython3",
   "version": "3.8.6"
  }
 },
 "nbformat": 4,
 "nbformat_minor": 4
}
